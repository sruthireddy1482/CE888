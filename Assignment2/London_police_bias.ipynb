{
  "nbformat": 4,
  "nbformat_minor": 0,
  "metadata": {
    "kernelspec": {
      "display_name": "Python 3",
      "language": "python",
      "name": "python3"
    },
    "language_info": {
      "codemirror_mode": {
        "name": "ipython",
        "version": 3
      },
      "file_extension": ".py",
      "mimetype": "text/x-python",
      "name": "python",
      "nbconvert_exporter": "python",
      "pygments_lexer": "ipython3",
      "version": "3.7.4"
    },
    "colab": {
      "name": "London police bias.ipynb",
      "provenance": [],
      "collapsed_sections": [],
      "include_colab_link": true
    }
  },
  "cells": [
    {
      "cell_type": "markdown",
      "metadata": {
        "id": "view-in-github",
        "colab_type": "text"
      },
      "source": [
        "<a href=\"https://colab.research.google.com/github/sruthireddy1482/CE888/blob/main/Assignment2/London_police_bias.ipynb\" target=\"_parent\"><img src=\"https://colab.research.google.com/assets/colab-badge.svg\" alt=\"Open In Colab\"/></a>"
      ]
    },
    {
      "cell_type": "code",
      "metadata": {
        "id": "7I5z6bj2Bwhs"
      },
      "source": [
        "import matplotlib.pyplot as plt\n",
        "import pandas as pd\n",
        "import seaborn as sns\n",
        "import numpy as np\n",
        "%matplotlib inline"
      ],
      "execution_count": null,
      "outputs": []
    },
    {
      "cell_type": "code",
      "metadata": {
        "id": "h9nF8yHOBwhz",
        "outputId": "649d7fe9-f2e5-45b9-e41c-c5f37cfd7357"
      },
      "source": [
        "df=pd.read_csv(\"https://raw.githubusercontent.com/sruthireddy1482/CE888/main/London-stopandserach.csv\")\n",
        "df.head()"
      ],
      "execution_count": null,
      "outputs": [
        {
          "output_type": "execute_result",
          "data": {
            "text/html": [
              "<div>\n",
              "<style scoped>\n",
              "    .dataframe tbody tr th:only-of-type {\n",
              "        vertical-align: middle;\n",
              "    }\n",
              "\n",
              "    .dataframe tbody tr th {\n",
              "        vertical-align: top;\n",
              "    }\n",
              "\n",
              "    .dataframe thead th {\n",
              "        text-align: right;\n",
              "    }\n",
              "</style>\n",
              "<table border=\"1\" class=\"dataframe\">\n",
              "  <thead>\n",
              "    <tr style=\"text-align: right;\">\n",
              "      <th></th>\n",
              "      <th>Type</th>\n",
              "      <th>Date</th>\n",
              "      <th>Part of a policing operation</th>\n",
              "      <th>Policing operation</th>\n",
              "      <th>Latitude</th>\n",
              "      <th>Longitude</th>\n",
              "      <th>Gender</th>\n",
              "      <th>Age range</th>\n",
              "      <th>Self-defined ethnicity</th>\n",
              "      <th>Officer-defined ethnicity</th>\n",
              "      <th>Legislation</th>\n",
              "      <th>Object of search</th>\n",
              "      <th>Outcome</th>\n",
              "      <th>Outcome linked to object of search</th>\n",
              "      <th>Removal of more than just outer clothing</th>\n",
              "    </tr>\n",
              "  </thead>\n",
              "  <tbody>\n",
              "    <tr>\n",
              "      <td>0</td>\n",
              "      <td>Person search</td>\n",
              "      <td>2020-07-01T02:16:55+00:00</td>\n",
              "      <td>NaN</td>\n",
              "      <td>NaN</td>\n",
              "      <td>51.517196</td>\n",
              "      <td>-0.085149</td>\n",
              "      <td>Male</td>\n",
              "      <td>18-24</td>\n",
              "      <td>Other ethnic group - Not stated</td>\n",
              "      <td>White</td>\n",
              "      <td>Misuse of Drugs Act 1971 (section 23)</td>\n",
              "      <td>Controlled drugs</td>\n",
              "      <td>A no further action disposal</td>\n",
              "      <td>False</td>\n",
              "      <td>False</td>\n",
              "    </tr>\n",
              "    <tr>\n",
              "      <td>1</td>\n",
              "      <td>Person search</td>\n",
              "      <td>2020-07-01T02:16:55+00:00</td>\n",
              "      <td>NaN</td>\n",
              "      <td>NaN</td>\n",
              "      <td>51.517196</td>\n",
              "      <td>-0.085149</td>\n",
              "      <td>Male</td>\n",
              "      <td>18-24</td>\n",
              "      <td>Other ethnic group - Not stated</td>\n",
              "      <td>White</td>\n",
              "      <td>Misuse of Drugs Act 1971 (section 23)</td>\n",
              "      <td>Controlled drugs</td>\n",
              "      <td>A no further action disposal</td>\n",
              "      <td>False</td>\n",
              "      <td>False</td>\n",
              "    </tr>\n",
              "    <tr>\n",
              "      <td>2</td>\n",
              "      <td>Person and Vehicle search</td>\n",
              "      <td>2020-07-01T03:10:05+00:00</td>\n",
              "      <td>NaN</td>\n",
              "      <td>NaN</td>\n",
              "      <td>51.512117</td>\n",
              "      <td>-0.102411</td>\n",
              "      <td>Female</td>\n",
              "      <td>over 34</td>\n",
              "      <td>White - English/Welsh/Scottish/Northern Irish/...</td>\n",
              "      <td>White</td>\n",
              "      <td>Misuse of Drugs Act 1971 (section 23)</td>\n",
              "      <td>Controlled drugs</td>\n",
              "      <td>Arrest</td>\n",
              "      <td>True</td>\n",
              "      <td>False</td>\n",
              "    </tr>\n",
              "    <tr>\n",
              "      <td>3</td>\n",
              "      <td>Person and Vehicle search</td>\n",
              "      <td>2020-07-01T03:10:05+00:00</td>\n",
              "      <td>NaN</td>\n",
              "      <td>NaN</td>\n",
              "      <td>51.512117</td>\n",
              "      <td>-0.102411</td>\n",
              "      <td>Female</td>\n",
              "      <td>over 34</td>\n",
              "      <td>White - English/Welsh/Scottish/Northern Irish/...</td>\n",
              "      <td>White</td>\n",
              "      <td>Misuse of Drugs Act 1971 (section 23)</td>\n",
              "      <td>Controlled drugs</td>\n",
              "      <td>Arrest</td>\n",
              "      <td>True</td>\n",
              "      <td>False</td>\n",
              "    </tr>\n",
              "    <tr>\n",
              "      <td>4</td>\n",
              "      <td>Person search</td>\n",
              "      <td>2020-07-01T03:16:33+00:00</td>\n",
              "      <td>NaN</td>\n",
              "      <td>NaN</td>\n",
              "      <td>51.512117</td>\n",
              "      <td>-0.102411</td>\n",
              "      <td>Male</td>\n",
              "      <td>25-34</td>\n",
              "      <td>White - English/Welsh/Scottish/Northern Irish/...</td>\n",
              "      <td>White</td>\n",
              "      <td>Misuse of Drugs Act 1971 (section 23)</td>\n",
              "      <td>Controlled drugs</td>\n",
              "      <td>Arrest</td>\n",
              "      <td>True</td>\n",
              "      <td>False</td>\n",
              "    </tr>\n",
              "  </tbody>\n",
              "</table>\n",
              "</div>"
            ],
            "text/plain": [
              "                        Type                       Date  \\\n",
              "0              Person search  2020-07-01T02:16:55+00:00   \n",
              "1              Person search  2020-07-01T02:16:55+00:00   \n",
              "2  Person and Vehicle search  2020-07-01T03:10:05+00:00   \n",
              "3  Person and Vehicle search  2020-07-01T03:10:05+00:00   \n",
              "4              Person search  2020-07-01T03:16:33+00:00   \n",
              "\n",
              "   Part of a policing operation  Policing operation   Latitude  Longitude  \\\n",
              "0                           NaN                 NaN  51.517196  -0.085149   \n",
              "1                           NaN                 NaN  51.517196  -0.085149   \n",
              "2                           NaN                 NaN  51.512117  -0.102411   \n",
              "3                           NaN                 NaN  51.512117  -0.102411   \n",
              "4                           NaN                 NaN  51.512117  -0.102411   \n",
              "\n",
              "   Gender Age range                             Self-defined ethnicity  \\\n",
              "0    Male     18-24                    Other ethnic group - Not stated   \n",
              "1    Male     18-24                    Other ethnic group - Not stated   \n",
              "2  Female   over 34  White - English/Welsh/Scottish/Northern Irish/...   \n",
              "3  Female   over 34  White - English/Welsh/Scottish/Northern Irish/...   \n",
              "4    Male     25-34  White - English/Welsh/Scottish/Northern Irish/...   \n",
              "\n",
              "  Officer-defined ethnicity                            Legislation  \\\n",
              "0                     White  Misuse of Drugs Act 1971 (section 23)   \n",
              "1                     White  Misuse of Drugs Act 1971 (section 23)   \n",
              "2                     White  Misuse of Drugs Act 1971 (section 23)   \n",
              "3                     White  Misuse of Drugs Act 1971 (section 23)   \n",
              "4                     White  Misuse of Drugs Act 1971 (section 23)   \n",
              "\n",
              "   Object of search                       Outcome  \\\n",
              "0  Controlled drugs  A no further action disposal   \n",
              "1  Controlled drugs  A no further action disposal   \n",
              "2  Controlled drugs                        Arrest   \n",
              "3  Controlled drugs                        Arrest   \n",
              "4  Controlled drugs                        Arrest   \n",
              "\n",
              "   Outcome linked to object of search  \\\n",
              "0                               False   \n",
              "1                               False   \n",
              "2                                True   \n",
              "3                                True   \n",
              "4                                True   \n",
              "\n",
              "   Removal of more than just outer clothing  \n",
              "0                                     False  \n",
              "1                                     False  \n",
              "2                                     False  \n",
              "3                                     False  \n",
              "4                                     False  "
            ]
          },
          "metadata": {
            "tags": []
          },
          "execution_count": 2
        }
      ]
    },
    {
      "cell_type": "code",
      "metadata": {
        "id": "d1oJKqqjBwh0",
        "outputId": "bc9db701-6d11-46f0-feb5-1b1b1f8cac06"
      },
      "source": [
        "df1=df.drop(['Part of a policing operation', 'Policing operation','Date','Latitude','Longitude','Age range'], axis=1)\n",
        "df1.head()"
      ],
      "execution_count": null,
      "outputs": [
        {
          "output_type": "execute_result",
          "data": {
            "text/html": [
              "<div>\n",
              "<style scoped>\n",
              "    .dataframe tbody tr th:only-of-type {\n",
              "        vertical-align: middle;\n",
              "    }\n",
              "\n",
              "    .dataframe tbody tr th {\n",
              "        vertical-align: top;\n",
              "    }\n",
              "\n",
              "    .dataframe thead th {\n",
              "        text-align: right;\n",
              "    }\n",
              "</style>\n",
              "<table border=\"1\" class=\"dataframe\">\n",
              "  <thead>\n",
              "    <tr style=\"text-align: right;\">\n",
              "      <th></th>\n",
              "      <th>Type</th>\n",
              "      <th>Gender</th>\n",
              "      <th>Self-defined ethnicity</th>\n",
              "      <th>Officer-defined ethnicity</th>\n",
              "      <th>Legislation</th>\n",
              "      <th>Object of search</th>\n",
              "      <th>Outcome</th>\n",
              "      <th>Outcome linked to object of search</th>\n",
              "      <th>Removal of more than just outer clothing</th>\n",
              "    </tr>\n",
              "  </thead>\n",
              "  <tbody>\n",
              "    <tr>\n",
              "      <th>0</th>\n",
              "      <td>Person search</td>\n",
              "      <td>Male</td>\n",
              "      <td>Other ethnic group - Not stated</td>\n",
              "      <td>White</td>\n",
              "      <td>Misuse of Drugs Act 1971 (section 23)</td>\n",
              "      <td>Controlled drugs</td>\n",
              "      <td>A no further action disposal</td>\n",
              "      <td>False</td>\n",
              "      <td>False</td>\n",
              "    </tr>\n",
              "    <tr>\n",
              "      <th>1</th>\n",
              "      <td>Person search</td>\n",
              "      <td>Male</td>\n",
              "      <td>Other ethnic group - Not stated</td>\n",
              "      <td>White</td>\n",
              "      <td>Misuse of Drugs Act 1971 (section 23)</td>\n",
              "      <td>Controlled drugs</td>\n",
              "      <td>A no further action disposal</td>\n",
              "      <td>False</td>\n",
              "      <td>False</td>\n",
              "    </tr>\n",
              "    <tr>\n",
              "      <th>2</th>\n",
              "      <td>Person and Vehicle search</td>\n",
              "      <td>Female</td>\n",
              "      <td>White - English/Welsh/Scottish/Northern Irish/...</td>\n",
              "      <td>White</td>\n",
              "      <td>Misuse of Drugs Act 1971 (section 23)</td>\n",
              "      <td>Controlled drugs</td>\n",
              "      <td>Arrest</td>\n",
              "      <td>True</td>\n",
              "      <td>False</td>\n",
              "    </tr>\n",
              "    <tr>\n",
              "      <th>3</th>\n",
              "      <td>Person and Vehicle search</td>\n",
              "      <td>Female</td>\n",
              "      <td>White - English/Welsh/Scottish/Northern Irish/...</td>\n",
              "      <td>White</td>\n",
              "      <td>Misuse of Drugs Act 1971 (section 23)</td>\n",
              "      <td>Controlled drugs</td>\n",
              "      <td>Arrest</td>\n",
              "      <td>True</td>\n",
              "      <td>False</td>\n",
              "    </tr>\n",
              "    <tr>\n",
              "      <th>4</th>\n",
              "      <td>Person search</td>\n",
              "      <td>Male</td>\n",
              "      <td>White - English/Welsh/Scottish/Northern Irish/...</td>\n",
              "      <td>White</td>\n",
              "      <td>Misuse of Drugs Act 1971 (section 23)</td>\n",
              "      <td>Controlled drugs</td>\n",
              "      <td>Arrest</td>\n",
              "      <td>True</td>\n",
              "      <td>False</td>\n",
              "    </tr>\n",
              "  </tbody>\n",
              "</table>\n",
              "</div>"
            ],
            "text/plain": [
              "                        Type  Gender  \\\n",
              "0              Person search    Male   \n",
              "1              Person search    Male   \n",
              "2  Person and Vehicle search  Female   \n",
              "3  Person and Vehicle search  Female   \n",
              "4              Person search    Male   \n",
              "\n",
              "                              Self-defined ethnicity  \\\n",
              "0                    Other ethnic group - Not stated   \n",
              "1                    Other ethnic group - Not stated   \n",
              "2  White - English/Welsh/Scottish/Northern Irish/...   \n",
              "3  White - English/Welsh/Scottish/Northern Irish/...   \n",
              "4  White - English/Welsh/Scottish/Northern Irish/...   \n",
              "\n",
              "  Officer-defined ethnicity                            Legislation  \\\n",
              "0                     White  Misuse of Drugs Act 1971 (section 23)   \n",
              "1                     White  Misuse of Drugs Act 1971 (section 23)   \n",
              "2                     White  Misuse of Drugs Act 1971 (section 23)   \n",
              "3                     White  Misuse of Drugs Act 1971 (section 23)   \n",
              "4                     White  Misuse of Drugs Act 1971 (section 23)   \n",
              "\n",
              "   Object of search                       Outcome  \\\n",
              "0  Controlled drugs  A no further action disposal   \n",
              "1  Controlled drugs  A no further action disposal   \n",
              "2  Controlled drugs                        Arrest   \n",
              "3  Controlled drugs                        Arrest   \n",
              "4  Controlled drugs                        Arrest   \n",
              "\n",
              "   Outcome linked to object of search  \\\n",
              "0                               False   \n",
              "1                               False   \n",
              "2                                True   \n",
              "3                                True   \n",
              "4                                True   \n",
              "\n",
              "   Removal of more than just outer clothing  \n",
              "0                                     False  \n",
              "1                                     False  \n",
              "2                                     False  \n",
              "3                                     False  \n",
              "4                                     False  "
            ]
          },
          "metadata": {
            "tags": []
          },
          "execution_count": 4
        }
      ]
    },
    {
      "cell_type": "code",
      "metadata": {
        "id": "VkkLUn8hBwh1",
        "outputId": "1a0878fd-410f-4f1d-924c-431e0377b997"
      },
      "source": [
        "table2 = pd.crosstab(index=df1['Removal of more than just outer clothing'], \n",
        "                          columns=df1[\"Gender\"])\n",
        "table2\n",
        "\n"
      ],
      "execution_count": null,
      "outputs": [
        {
          "output_type": "execute_result",
          "data": {
            "text/html": [
              "<div>\n",
              "<style scoped>\n",
              "    .dataframe tbody tr th:only-of-type {\n",
              "        vertical-align: middle;\n",
              "    }\n",
              "\n",
              "    .dataframe tbody tr th {\n",
              "        vertical-align: top;\n",
              "    }\n",
              "\n",
              "    .dataframe thead th {\n",
              "        text-align: right;\n",
              "    }\n",
              "</style>\n",
              "<table border=\"1\" class=\"dataframe\">\n",
              "  <thead>\n",
              "    <tr style=\"text-align: right;\">\n",
              "      <th>Gender</th>\n",
              "      <th>Female</th>\n",
              "      <th>Male</th>\n",
              "    </tr>\n",
              "    <tr>\n",
              "      <th>Removal of more than just outer clothing</th>\n",
              "      <th></th>\n",
              "      <th></th>\n",
              "    </tr>\n",
              "  </thead>\n",
              "  <tbody>\n",
              "    <tr>\n",
              "      <th>False</th>\n",
              "      <td>195</td>\n",
              "      <td>1618</td>\n",
              "    </tr>\n",
              "    <tr>\n",
              "      <th>True</th>\n",
              "      <td>3</td>\n",
              "      <td>45</td>\n",
              "    </tr>\n",
              "  </tbody>\n",
              "</table>\n",
              "</div>"
            ],
            "text/plain": [
              "Gender                                    Female  Male\n",
              "Removal of more than just outer clothing              \n",
              "False                                        195  1618\n",
              "True                                           3    45"
            ]
          },
          "metadata": {
            "tags": []
          },
          "execution_count": 14
        }
      ]
    },
    {
      "cell_type": "code",
      "metadata": {
        "id": "1mzt9qenBwh1"
      },
      "source": [
        ""
      ],
      "execution_count": null,
      "outputs": []
    },
    {
      "cell_type": "code",
      "metadata": {
        "id": "9tzelXsPBwh2",
        "outputId": "dfcca24f-a7bc-4624-bd46-cb2a0d54ba33"
      },
      "source": [
        "df1.info()"
      ],
      "execution_count": null,
      "outputs": [
        {
          "output_type": "stream",
          "text": [
            "<class 'pandas.core.frame.DataFrame'>\n",
            "RangeIndex: 1861 entries, 0 to 1860\n",
            "Data columns (total 9 columns):\n",
            " #   Column                                    Non-Null Count  Dtype \n",
            "---  ------                                    --------------  ----- \n",
            " 0   Type                                      1861 non-null   object\n",
            " 1   Gender                                    1861 non-null   object\n",
            " 2   Self-defined ethnicity                    1761 non-null   object\n",
            " 3   Officer-defined ethnicity                 1759 non-null   object\n",
            " 4   Legislation                               1861 non-null   object\n",
            " 5   Object of search                          1852 non-null   object\n",
            " 6   Outcome                                   1861 non-null   object\n",
            " 7   Outcome linked to object of search        1861 non-null   bool  \n",
            " 8   Removal of more than just outer clothing  1861 non-null   bool  \n",
            "dtypes: bool(2), object(7)\n",
            "memory usage: 105.5+ KB\n"
          ],
          "name": "stdout"
        }
      ]
    },
    {
      "cell_type": "code",
      "metadata": {
        "id": "XtUs0P8tBwh2",
        "outputId": "d5266639-6523-49e9-e54d-f76762de7c01"
      },
      "source": [
        "table1 = pd.crosstab(index=df1[\"Outcome\"], \n",
        "                          columns=df1[\"Gender\"])\n",
        "\n",
        "table1"
      ],
      "execution_count": null,
      "outputs": [
        {
          "output_type": "execute_result",
          "data": {
            "text/html": [
              "<div>\n",
              "<style scoped>\n",
              "    .dataframe tbody tr th:only-of-type {\n",
              "        vertical-align: middle;\n",
              "    }\n",
              "\n",
              "    .dataframe tbody tr th {\n",
              "        vertical-align: top;\n",
              "    }\n",
              "\n",
              "    .dataframe thead th {\n",
              "        text-align: right;\n",
              "    }\n",
              "</style>\n",
              "<table border=\"1\" class=\"dataframe\">\n",
              "  <thead>\n",
              "    <tr style=\"text-align: right;\">\n",
              "      <th>Gender</th>\n",
              "      <th>Female</th>\n",
              "      <th>Male</th>\n",
              "    </tr>\n",
              "    <tr>\n",
              "      <th>Outcome</th>\n",
              "      <th></th>\n",
              "      <th></th>\n",
              "    </tr>\n",
              "  </thead>\n",
              "  <tbody>\n",
              "    <tr>\n",
              "      <th>A no further action disposal</th>\n",
              "      <td>150</td>\n",
              "      <td>1247</td>\n",
              "    </tr>\n",
              "    <tr>\n",
              "      <th>Arrest</th>\n",
              "      <td>29</td>\n",
              "      <td>277</td>\n",
              "    </tr>\n",
              "    <tr>\n",
              "      <th>Caution (simple or conditional)</th>\n",
              "      <td>2</td>\n",
              "      <td>4</td>\n",
              "    </tr>\n",
              "    <tr>\n",
              "      <th>Community resolution</th>\n",
              "      <td>4</td>\n",
              "      <td>6</td>\n",
              "    </tr>\n",
              "    <tr>\n",
              "      <th>Khat or Cannabis warning</th>\n",
              "      <td>12</td>\n",
              "      <td>111</td>\n",
              "    </tr>\n",
              "    <tr>\n",
              "      <th>Penalty Notice for Disorder</th>\n",
              "      <td>1</td>\n",
              "      <td>7</td>\n",
              "    </tr>\n",
              "    <tr>\n",
              "      <th>Summons / charged by post</th>\n",
              "      <td>0</td>\n",
              "      <td>11</td>\n",
              "    </tr>\n",
              "  </tbody>\n",
              "</table>\n",
              "</div>"
            ],
            "text/plain": [
              "Gender                           Female  Male\n",
              "Outcome                                      \n",
              "A no further action disposal        150  1247\n",
              "Arrest                               29   277\n",
              "Caution (simple or conditional)       2     4\n",
              "Community resolution                  4     6\n",
              "Khat or Cannabis warning             12   111\n",
              "Penalty Notice for Disorder           1     7\n",
              "Summons / charged by post             0    11"
            ]
          },
          "metadata": {
            "tags": []
          },
          "execution_count": 8
        }
      ]
    },
    {
      "cell_type": "code",
      "metadata": {
        "id": "bqvdhVB2Bwh2",
        "outputId": "7d0d8d97-aff6-4f4f-fe0c-5414a29a28e4"
      },
      "source": [
        "table1['Male']"
      ],
      "execution_count": null,
      "outputs": [
        {
          "output_type": "execute_result",
          "data": {
            "text/plain": [
              "Outcome\n",
              "A no further action disposal       1247\n",
              "Arrest                              277\n",
              "Caution (simple or conditional)       4\n",
              "Community resolution                  6\n",
              "Khat or Cannabis warning            111\n",
              "Penalty Notice for Disorder           7\n",
              "Summons / charged by post            11\n",
              "Name: Male, dtype: int64"
            ]
          },
          "metadata": {
            "tags": []
          },
          "execution_count": 11
        }
      ]
    },
    {
      "cell_type": "code",
      "metadata": {
        "id": "Uj8O3NqqBwh3",
        "outputId": "2558a388-cf02-4aaf-d7e0-ce974f6d584f"
      },
      "source": [
        "df1.columns"
      ],
      "execution_count": null,
      "outputs": [
        {
          "output_type": "execute_result",
          "data": {
            "text/plain": [
              "Index(['Type', 'Gender', 'Self-defined ethnicity', 'Officer-defined ethnicity',\n",
              "       'Legislation', 'Object of search', 'Outcome',\n",
              "       'Outcome linked to object of search',\n",
              "       'Removal of more than just outer clothing'],\n",
              "      dtype='object')"
            ]
          },
          "metadata": {
            "tags": []
          },
          "execution_count": 6
        }
      ]
    },
    {
      "cell_type": "code",
      "metadata": {
        "id": "Z4XwaNQ6Bwh3"
      },
      "source": [
        "from sklearn import preprocessing \n",
        "label = preprocessing.LabelEncoder() \n",
        "\n",
        "cols = ['Outcome','Gender','Type','Legislation','Outcome linked to object of search',\n",
        "        'Removal of more than just outer clothing','Self-defined ethnicity','Officer-defined ethnicity','Object of search']\n",
        "df1[cols] = df[cols].astype(str)\n",
        "\n",
        "\n",
        "\n",
        "df1[cols] = df1[cols].apply(preprocessing.LabelEncoder().fit_transform)"
      ],
      "execution_count": null,
      "outputs": []
    },
    {
      "cell_type": "code",
      "metadata": {
        "id": "K3iLOIBgBwh4",
        "outputId": "00e625d1-4bbc-498e-fb05-9478f7d9d7fc"
      },
      "source": [
        "df1.head()"
      ],
      "execution_count": null,
      "outputs": [
        {
          "output_type": "execute_result",
          "data": {
            "text/html": [
              "<div>\n",
              "<style scoped>\n",
              "    .dataframe tbody tr th:only-of-type {\n",
              "        vertical-align: middle;\n",
              "    }\n",
              "\n",
              "    .dataframe tbody tr th {\n",
              "        vertical-align: top;\n",
              "    }\n",
              "\n",
              "    .dataframe thead th {\n",
              "        text-align: right;\n",
              "    }\n",
              "</style>\n",
              "<table border=\"1\" class=\"dataframe\">\n",
              "  <thead>\n",
              "    <tr style=\"text-align: right;\">\n",
              "      <th></th>\n",
              "      <th>Type</th>\n",
              "      <th>Gender</th>\n",
              "      <th>Self-defined ethnicity</th>\n",
              "      <th>Officer-defined ethnicity</th>\n",
              "      <th>Legislation</th>\n",
              "      <th>Object of search</th>\n",
              "      <th>Outcome</th>\n",
              "      <th>Outcome linked to object of search</th>\n",
              "      <th>Removal of more than just outer clothing</th>\n",
              "    </tr>\n",
              "  </thead>\n",
              "  <tbody>\n",
              "    <tr>\n",
              "      <th>0</th>\n",
              "      <td>1</td>\n",
              "      <td>1</td>\n",
              "      <td>13</td>\n",
              "      <td>3</td>\n",
              "      <td>1</td>\n",
              "      <td>2</td>\n",
              "      <td>0</td>\n",
              "      <td>0</td>\n",
              "      <td>0</td>\n",
              "    </tr>\n",
              "    <tr>\n",
              "      <th>1</th>\n",
              "      <td>1</td>\n",
              "      <td>1</td>\n",
              "      <td>13</td>\n",
              "      <td>3</td>\n",
              "      <td>1</td>\n",
              "      <td>2</td>\n",
              "      <td>0</td>\n",
              "      <td>0</td>\n",
              "      <td>0</td>\n",
              "    </tr>\n",
              "    <tr>\n",
              "      <th>2</th>\n",
              "      <td>0</td>\n",
              "      <td>0</td>\n",
              "      <td>15</td>\n",
              "      <td>3</td>\n",
              "      <td>1</td>\n",
              "      <td>2</td>\n",
              "      <td>1</td>\n",
              "      <td>1</td>\n",
              "      <td>0</td>\n",
              "    </tr>\n",
              "    <tr>\n",
              "      <th>3</th>\n",
              "      <td>0</td>\n",
              "      <td>0</td>\n",
              "      <td>15</td>\n",
              "      <td>3</td>\n",
              "      <td>1</td>\n",
              "      <td>2</td>\n",
              "      <td>1</td>\n",
              "      <td>1</td>\n",
              "      <td>0</td>\n",
              "    </tr>\n",
              "    <tr>\n",
              "      <th>4</th>\n",
              "      <td>1</td>\n",
              "      <td>1</td>\n",
              "      <td>15</td>\n",
              "      <td>3</td>\n",
              "      <td>1</td>\n",
              "      <td>2</td>\n",
              "      <td>1</td>\n",
              "      <td>1</td>\n",
              "      <td>0</td>\n",
              "    </tr>\n",
              "  </tbody>\n",
              "</table>\n",
              "</div>"
            ],
            "text/plain": [
              "   Type  Gender  Self-defined ethnicity  Officer-defined ethnicity  \\\n",
              "0     1       1                      13                          3   \n",
              "1     1       1                      13                          3   \n",
              "2     0       0                      15                          3   \n",
              "3     0       0                      15                          3   \n",
              "4     1       1                      15                          3   \n",
              "\n",
              "   Legislation  Object of search  Outcome  Outcome linked to object of search  \\\n",
              "0            1                 2        0                                   0   \n",
              "1            1                 2        0                                   0   \n",
              "2            1                 2        1                                   1   \n",
              "3            1                 2        1                                   1   \n",
              "4            1                 2        1                                   1   \n",
              "\n",
              "   Removal of more than just outer clothing  \n",
              "0                                         0  \n",
              "1                                         0  \n",
              "2                                         0  \n",
              "3                                         0  \n",
              "4                                         0  "
            ]
          },
          "metadata": {
            "tags": []
          },
          "execution_count": 8
        }
      ]
    },
    {
      "cell_type": "code",
      "metadata": {
        "id": "v6XD6qxLBwh4",
        "outputId": "fb221165-7db5-4107-f0a4-92b3f73de828"
      },
      "source": [
        "df1['Removal of more than just outer clothing'].value_counts()"
      ],
      "execution_count": null,
      "outputs": [
        {
          "output_type": "execute_result",
          "data": {
            "text/plain": [
              "0    1813\n",
              "1      48\n",
              "Name: Removal of more than just outer clothing, dtype: int64"
            ]
          },
          "metadata": {
            "tags": []
          },
          "execution_count": 9
        }
      ]
    },
    {
      "cell_type": "code",
      "metadata": {
        "id": "06Qe1xrZBwh4",
        "outputId": "377b6879-a1ef-48b3-a593-34738e57a5d8"
      },
      "source": [
        "df1.info()"
      ],
      "execution_count": null,
      "outputs": [
        {
          "output_type": "stream",
          "text": [
            "<class 'pandas.core.frame.DataFrame'>\n",
            "RangeIndex: 1861 entries, 0 to 1860\n",
            "Data columns (total 9 columns):\n",
            " #   Column                                    Non-Null Count  Dtype\n",
            "---  ------                                    --------------  -----\n",
            " 0   Type                                      1861 non-null   int32\n",
            " 1   Gender                                    1861 non-null   int32\n",
            " 2   Self-defined ethnicity                    1861 non-null   int32\n",
            " 3   Officer-defined ethnicity                 1861 non-null   int32\n",
            " 4   Legislation                               1861 non-null   int32\n",
            " 5   Object of search                          1861 non-null   int32\n",
            " 6   Outcome                                   1861 non-null   int32\n",
            " 7   Outcome linked to object of search        1861 non-null   int32\n",
            " 8   Removal of more than just outer clothing  1861 non-null   int32\n",
            "dtypes: int32(9)\n",
            "memory usage: 65.6 KB\n"
          ],
          "name": "stdout"
        }
      ]
    },
    {
      "cell_type": "code",
      "metadata": {
        "id": "-4Pwk1eaBwh5"
      },
      "source": [
        "cols = ['Legislation','Self-defined ethnicity','Officer-defined ethnicity','Object of search']\n",
        "from sklearn.preprocessing import OneHotEncoder\n",
        "ohe_arr = OneHotEncoder().fit_transform(df1[cols]).toarray()"
      ],
      "execution_count": null,
      "outputs": []
    },
    {
      "cell_type": "code",
      "metadata": {
        "id": "2CqyhBaLBwh5",
        "outputId": "1c408760-e3bb-4e6c-9d35-b69d54c6800b"
      },
      "source": [
        "ohe_arr"
      ],
      "execution_count": null,
      "outputs": [
        {
          "output_type": "execute_result",
          "data": {
            "text/plain": [
              "array([[0., 1., 0., ..., 0., 0., 0.],\n",
              "       [0., 1., 0., ..., 0., 0., 0.],\n",
              "       [0., 1., 0., ..., 0., 0., 0.],\n",
              "       ...,\n",
              "       [0., 1., 0., ..., 0., 0., 0.],\n",
              "       [0., 1., 0., ..., 0., 0., 0.],\n",
              "       [0., 1., 0., ..., 0., 0., 0.]])"
            ]
          },
          "metadata": {
            "tags": []
          },
          "execution_count": 12
        }
      ]
    },
    {
      "cell_type": "code",
      "metadata": {
        "id": "43dtHnSyBwh5"
      },
      "source": [
        "data_hot_encoded = pd.DataFrame(ohe_arr, index=df1.index)\n",
        "\n",
        "#Extract only the columns that didnt need to be encoded\n",
        "data_other_cols = df1.drop(columns=cols)\n",
        "\n",
        "#Concatenate the two dataframes : \n",
        "data_out = pd.concat([data_hot_encoded, data_other_cols], axis=1)"
      ],
      "execution_count": null,
      "outputs": []
    },
    {
      "cell_type": "code",
      "metadata": {
        "id": "PFhpCwZQBwh5",
        "outputId": "49b7b677-d523-4cc3-a07e-bd9318f99be3"
      },
      "source": [
        "data_out.info()"
      ],
      "execution_count": null,
      "outputs": [
        {
          "output_type": "stream",
          "text": [
            "<class 'pandas.core.frame.DataFrame'>\n",
            "RangeIndex: 1861 entries, 0 to 1860\n",
            "Data columns (total 41 columns):\n",
            " #   Column                                    Non-Null Count  Dtype  \n",
            "---  ------                                    --------------  -----  \n",
            " 0   0                                         1861 non-null   float64\n",
            " 1   1                                         1861 non-null   float64\n",
            " 2   2                                         1861 non-null   float64\n",
            " 3   3                                         1861 non-null   float64\n",
            " 4   4                                         1861 non-null   float64\n",
            " 5   5                                         1861 non-null   float64\n",
            " 6   6                                         1861 non-null   float64\n",
            " 7   7                                         1861 non-null   float64\n",
            " 8   8                                         1861 non-null   float64\n",
            " 9   9                                         1861 non-null   float64\n",
            " 10  10                                        1861 non-null   float64\n",
            " 11  11                                        1861 non-null   float64\n",
            " 12  12                                        1861 non-null   float64\n",
            " 13  13                                        1861 non-null   float64\n",
            " 14  14                                        1861 non-null   float64\n",
            " 15  15                                        1861 non-null   float64\n",
            " 16  16                                        1861 non-null   float64\n",
            " 17  17                                        1861 non-null   float64\n",
            " 18  18                                        1861 non-null   float64\n",
            " 19  19                                        1861 non-null   float64\n",
            " 20  20                                        1861 non-null   float64\n",
            " 21  21                                        1861 non-null   float64\n",
            " 22  22                                        1861 non-null   float64\n",
            " 23  23                                        1861 non-null   float64\n",
            " 24  24                                        1861 non-null   float64\n",
            " 25  25                                        1861 non-null   float64\n",
            " 26  26                                        1861 non-null   float64\n",
            " 27  27                                        1861 non-null   float64\n",
            " 28  28                                        1861 non-null   float64\n",
            " 29  29                                        1861 non-null   float64\n",
            " 30  30                                        1861 non-null   float64\n",
            " 31  31                                        1861 non-null   float64\n",
            " 32  32                                        1861 non-null   float64\n",
            " 33  33                                        1861 non-null   float64\n",
            " 34  34                                        1861 non-null   float64\n",
            " 35  35                                        1861 non-null   float64\n",
            " 36  Type                                      1861 non-null   int32  \n",
            " 37  Gender                                    1861 non-null   int32  \n",
            " 38  Outcome                                   1861 non-null   int32  \n",
            " 39  Outcome linked to object of search        1861 non-null   int32  \n",
            " 40  Removal of more than just outer clothing  1861 non-null   int32  \n",
            "dtypes: float64(36), int32(5)\n",
            "memory usage: 559.9 KB\n"
          ],
          "name": "stdout"
        }
      ]
    },
    {
      "cell_type": "code",
      "metadata": {
        "id": "QWUXJETGBwh6",
        "outputId": "77622353-1b5c-4d98-9f87-765c778829cd"
      },
      "source": [
        "data_out.head()"
      ],
      "execution_count": null,
      "outputs": [
        {
          "output_type": "execute_result",
          "data": {
            "text/html": [
              "<div>\n",
              "<style scoped>\n",
              "    .dataframe tbody tr th:only-of-type {\n",
              "        vertical-align: middle;\n",
              "    }\n",
              "\n",
              "    .dataframe tbody tr th {\n",
              "        vertical-align: top;\n",
              "    }\n",
              "\n",
              "    .dataframe thead th {\n",
              "        text-align: right;\n",
              "    }\n",
              "</style>\n",
              "<table border=\"1\" class=\"dataframe\">\n",
              "  <thead>\n",
              "    <tr style=\"text-align: right;\">\n",
              "      <th></th>\n",
              "      <th>0</th>\n",
              "      <th>1</th>\n",
              "      <th>2</th>\n",
              "      <th>3</th>\n",
              "      <th>4</th>\n",
              "      <th>5</th>\n",
              "      <th>6</th>\n",
              "      <th>7</th>\n",
              "      <th>8</th>\n",
              "      <th>9</th>\n",
              "      <th>...</th>\n",
              "      <th>31</th>\n",
              "      <th>32</th>\n",
              "      <th>33</th>\n",
              "      <th>34</th>\n",
              "      <th>35</th>\n",
              "      <th>Type</th>\n",
              "      <th>Gender</th>\n",
              "      <th>Outcome</th>\n",
              "      <th>Outcome linked to object of search</th>\n",
              "      <th>Removal of more than just outer clothing</th>\n",
              "    </tr>\n",
              "  </thead>\n",
              "  <tbody>\n",
              "    <tr>\n",
              "      <th>0</th>\n",
              "      <td>0.0</td>\n",
              "      <td>1.0</td>\n",
              "      <td>0.0</td>\n",
              "      <td>0.0</td>\n",
              "      <td>0.0</td>\n",
              "      <td>0.0</td>\n",
              "      <td>0.0</td>\n",
              "      <td>0.0</td>\n",
              "      <td>0.0</td>\n",
              "      <td>0.0</td>\n",
              "      <td>...</td>\n",
              "      <td>0.0</td>\n",
              "      <td>0.0</td>\n",
              "      <td>0.0</td>\n",
              "      <td>0.0</td>\n",
              "      <td>0.0</td>\n",
              "      <td>1</td>\n",
              "      <td>1</td>\n",
              "      <td>0</td>\n",
              "      <td>0</td>\n",
              "      <td>0</td>\n",
              "    </tr>\n",
              "    <tr>\n",
              "      <th>1</th>\n",
              "      <td>0.0</td>\n",
              "      <td>1.0</td>\n",
              "      <td>0.0</td>\n",
              "      <td>0.0</td>\n",
              "      <td>0.0</td>\n",
              "      <td>0.0</td>\n",
              "      <td>0.0</td>\n",
              "      <td>0.0</td>\n",
              "      <td>0.0</td>\n",
              "      <td>0.0</td>\n",
              "      <td>...</td>\n",
              "      <td>0.0</td>\n",
              "      <td>0.0</td>\n",
              "      <td>0.0</td>\n",
              "      <td>0.0</td>\n",
              "      <td>0.0</td>\n",
              "      <td>1</td>\n",
              "      <td>1</td>\n",
              "      <td>0</td>\n",
              "      <td>0</td>\n",
              "      <td>0</td>\n",
              "    </tr>\n",
              "    <tr>\n",
              "      <th>2</th>\n",
              "      <td>0.0</td>\n",
              "      <td>1.0</td>\n",
              "      <td>0.0</td>\n",
              "      <td>0.0</td>\n",
              "      <td>0.0</td>\n",
              "      <td>0.0</td>\n",
              "      <td>0.0</td>\n",
              "      <td>0.0</td>\n",
              "      <td>0.0</td>\n",
              "      <td>0.0</td>\n",
              "      <td>...</td>\n",
              "      <td>0.0</td>\n",
              "      <td>0.0</td>\n",
              "      <td>0.0</td>\n",
              "      <td>0.0</td>\n",
              "      <td>0.0</td>\n",
              "      <td>0</td>\n",
              "      <td>0</td>\n",
              "      <td>1</td>\n",
              "      <td>1</td>\n",
              "      <td>0</td>\n",
              "    </tr>\n",
              "    <tr>\n",
              "      <th>3</th>\n",
              "      <td>0.0</td>\n",
              "      <td>1.0</td>\n",
              "      <td>0.0</td>\n",
              "      <td>0.0</td>\n",
              "      <td>0.0</td>\n",
              "      <td>0.0</td>\n",
              "      <td>0.0</td>\n",
              "      <td>0.0</td>\n",
              "      <td>0.0</td>\n",
              "      <td>0.0</td>\n",
              "      <td>...</td>\n",
              "      <td>0.0</td>\n",
              "      <td>0.0</td>\n",
              "      <td>0.0</td>\n",
              "      <td>0.0</td>\n",
              "      <td>0.0</td>\n",
              "      <td>0</td>\n",
              "      <td>0</td>\n",
              "      <td>1</td>\n",
              "      <td>1</td>\n",
              "      <td>0</td>\n",
              "    </tr>\n",
              "    <tr>\n",
              "      <th>4</th>\n",
              "      <td>0.0</td>\n",
              "      <td>1.0</td>\n",
              "      <td>0.0</td>\n",
              "      <td>0.0</td>\n",
              "      <td>0.0</td>\n",
              "      <td>0.0</td>\n",
              "      <td>0.0</td>\n",
              "      <td>0.0</td>\n",
              "      <td>0.0</td>\n",
              "      <td>0.0</td>\n",
              "      <td>...</td>\n",
              "      <td>0.0</td>\n",
              "      <td>0.0</td>\n",
              "      <td>0.0</td>\n",
              "      <td>0.0</td>\n",
              "      <td>0.0</td>\n",
              "      <td>1</td>\n",
              "      <td>1</td>\n",
              "      <td>1</td>\n",
              "      <td>1</td>\n",
              "      <td>0</td>\n",
              "    </tr>\n",
              "  </tbody>\n",
              "</table>\n",
              "<p>5 rows × 41 columns</p>\n",
              "</div>"
            ],
            "text/plain": [
              "     0    1    2    3    4    5    6    7    8    9  ...   31   32   33   34  \\\n",
              "0  0.0  1.0  0.0  0.0  0.0  0.0  0.0  0.0  0.0  0.0  ...  0.0  0.0  0.0  0.0   \n",
              "1  0.0  1.0  0.0  0.0  0.0  0.0  0.0  0.0  0.0  0.0  ...  0.0  0.0  0.0  0.0   \n",
              "2  0.0  1.0  0.0  0.0  0.0  0.0  0.0  0.0  0.0  0.0  ...  0.0  0.0  0.0  0.0   \n",
              "3  0.0  1.0  0.0  0.0  0.0  0.0  0.0  0.0  0.0  0.0  ...  0.0  0.0  0.0  0.0   \n",
              "4  0.0  1.0  0.0  0.0  0.0  0.0  0.0  0.0  0.0  0.0  ...  0.0  0.0  0.0  0.0   \n",
              "\n",
              "    35  Type  Gender  Outcome  Outcome linked to object of search  \\\n",
              "0  0.0     1       1        0                                   0   \n",
              "1  0.0     1       1        0                                   0   \n",
              "2  0.0     0       0        1                                   1   \n",
              "3  0.0     0       0        1                                   1   \n",
              "4  0.0     1       1        1                                   1   \n",
              "\n",
              "   Removal of more than just outer clothing  \n",
              "0                                         0  \n",
              "1                                         0  \n",
              "2                                         0  \n",
              "3                                         0  \n",
              "4                                         0  \n",
              "\n",
              "[5 rows x 41 columns]"
            ]
          },
          "metadata": {
            "tags": []
          },
          "execution_count": 15
        }
      ]
    },
    {
      "cell_type": "code",
      "metadata": {
        "id": "xFqIjVF6Bwh6",
        "outputId": "492df9c8-d6cb-4cc3-b849-d126a138091a"
      },
      "source": [
        "data_final = data_out.drop(columns=['Outcome'],axis=1)\n",
        "data_final.shape"
      ],
      "execution_count": null,
      "outputs": [
        {
          "output_type": "execute_result",
          "data": {
            "text/plain": [
              "(1861, 40)"
            ]
          },
          "metadata": {
            "tags": []
          },
          "execution_count": 16
        }
      ]
    },
    {
      "cell_type": "code",
      "metadata": {
        "id": "h3rl-ybRBwh6",
        "outputId": "0ec62072-74a0-4f18-9141-ddd7903817f7"
      },
      "source": [
        "data_out.head()"
      ],
      "execution_count": null,
      "outputs": [
        {
          "output_type": "execute_result",
          "data": {
            "text/html": [
              "<div>\n",
              "<style scoped>\n",
              "    .dataframe tbody tr th:only-of-type {\n",
              "        vertical-align: middle;\n",
              "    }\n",
              "\n",
              "    .dataframe tbody tr th {\n",
              "        vertical-align: top;\n",
              "    }\n",
              "\n",
              "    .dataframe thead th {\n",
              "        text-align: right;\n",
              "    }\n",
              "</style>\n",
              "<table border=\"1\" class=\"dataframe\">\n",
              "  <thead>\n",
              "    <tr style=\"text-align: right;\">\n",
              "      <th></th>\n",
              "      <th>0</th>\n",
              "      <th>1</th>\n",
              "      <th>2</th>\n",
              "      <th>3</th>\n",
              "      <th>4</th>\n",
              "      <th>5</th>\n",
              "      <th>6</th>\n",
              "      <th>7</th>\n",
              "      <th>8</th>\n",
              "      <th>9</th>\n",
              "      <th>...</th>\n",
              "      <th>31</th>\n",
              "      <th>32</th>\n",
              "      <th>33</th>\n",
              "      <th>34</th>\n",
              "      <th>35</th>\n",
              "      <th>Type</th>\n",
              "      <th>Gender</th>\n",
              "      <th>Outcome</th>\n",
              "      <th>Outcome linked to object of search</th>\n",
              "      <th>Removal of more than just outer clothing</th>\n",
              "    </tr>\n",
              "  </thead>\n",
              "  <tbody>\n",
              "    <tr>\n",
              "      <th>0</th>\n",
              "      <td>0.0</td>\n",
              "      <td>1.0</td>\n",
              "      <td>0.0</td>\n",
              "      <td>0.0</td>\n",
              "      <td>0.0</td>\n",
              "      <td>0.0</td>\n",
              "      <td>0.0</td>\n",
              "      <td>0.0</td>\n",
              "      <td>0.0</td>\n",
              "      <td>0.0</td>\n",
              "      <td>...</td>\n",
              "      <td>0.0</td>\n",
              "      <td>0.0</td>\n",
              "      <td>0.0</td>\n",
              "      <td>0.0</td>\n",
              "      <td>0.0</td>\n",
              "      <td>1</td>\n",
              "      <td>1</td>\n",
              "      <td>0</td>\n",
              "      <td>0</td>\n",
              "      <td>0</td>\n",
              "    </tr>\n",
              "    <tr>\n",
              "      <th>1</th>\n",
              "      <td>0.0</td>\n",
              "      <td>1.0</td>\n",
              "      <td>0.0</td>\n",
              "      <td>0.0</td>\n",
              "      <td>0.0</td>\n",
              "      <td>0.0</td>\n",
              "      <td>0.0</td>\n",
              "      <td>0.0</td>\n",
              "      <td>0.0</td>\n",
              "      <td>0.0</td>\n",
              "      <td>...</td>\n",
              "      <td>0.0</td>\n",
              "      <td>0.0</td>\n",
              "      <td>0.0</td>\n",
              "      <td>0.0</td>\n",
              "      <td>0.0</td>\n",
              "      <td>1</td>\n",
              "      <td>1</td>\n",
              "      <td>0</td>\n",
              "      <td>0</td>\n",
              "      <td>0</td>\n",
              "    </tr>\n",
              "    <tr>\n",
              "      <th>2</th>\n",
              "      <td>0.0</td>\n",
              "      <td>1.0</td>\n",
              "      <td>0.0</td>\n",
              "      <td>0.0</td>\n",
              "      <td>0.0</td>\n",
              "      <td>0.0</td>\n",
              "      <td>0.0</td>\n",
              "      <td>0.0</td>\n",
              "      <td>0.0</td>\n",
              "      <td>0.0</td>\n",
              "      <td>...</td>\n",
              "      <td>0.0</td>\n",
              "      <td>0.0</td>\n",
              "      <td>0.0</td>\n",
              "      <td>0.0</td>\n",
              "      <td>0.0</td>\n",
              "      <td>0</td>\n",
              "      <td>0</td>\n",
              "      <td>1</td>\n",
              "      <td>1</td>\n",
              "      <td>0</td>\n",
              "    </tr>\n",
              "    <tr>\n",
              "      <th>3</th>\n",
              "      <td>0.0</td>\n",
              "      <td>1.0</td>\n",
              "      <td>0.0</td>\n",
              "      <td>0.0</td>\n",
              "      <td>0.0</td>\n",
              "      <td>0.0</td>\n",
              "      <td>0.0</td>\n",
              "      <td>0.0</td>\n",
              "      <td>0.0</td>\n",
              "      <td>0.0</td>\n",
              "      <td>...</td>\n",
              "      <td>0.0</td>\n",
              "      <td>0.0</td>\n",
              "      <td>0.0</td>\n",
              "      <td>0.0</td>\n",
              "      <td>0.0</td>\n",
              "      <td>0</td>\n",
              "      <td>0</td>\n",
              "      <td>1</td>\n",
              "      <td>1</td>\n",
              "      <td>0</td>\n",
              "    </tr>\n",
              "    <tr>\n",
              "      <th>4</th>\n",
              "      <td>0.0</td>\n",
              "      <td>1.0</td>\n",
              "      <td>0.0</td>\n",
              "      <td>0.0</td>\n",
              "      <td>0.0</td>\n",
              "      <td>0.0</td>\n",
              "      <td>0.0</td>\n",
              "      <td>0.0</td>\n",
              "      <td>0.0</td>\n",
              "      <td>0.0</td>\n",
              "      <td>...</td>\n",
              "      <td>0.0</td>\n",
              "      <td>0.0</td>\n",
              "      <td>0.0</td>\n",
              "      <td>0.0</td>\n",
              "      <td>0.0</td>\n",
              "      <td>1</td>\n",
              "      <td>1</td>\n",
              "      <td>1</td>\n",
              "      <td>1</td>\n",
              "      <td>0</td>\n",
              "    </tr>\n",
              "  </tbody>\n",
              "</table>\n",
              "<p>5 rows × 41 columns</p>\n",
              "</div>"
            ],
            "text/plain": [
              "     0    1    2    3    4    5    6    7    8    9  ...   31   32   33   34  \\\n",
              "0  0.0  1.0  0.0  0.0  0.0  0.0  0.0  0.0  0.0  0.0  ...  0.0  0.0  0.0  0.0   \n",
              "1  0.0  1.0  0.0  0.0  0.0  0.0  0.0  0.0  0.0  0.0  ...  0.0  0.0  0.0  0.0   \n",
              "2  0.0  1.0  0.0  0.0  0.0  0.0  0.0  0.0  0.0  0.0  ...  0.0  0.0  0.0  0.0   \n",
              "3  0.0  1.0  0.0  0.0  0.0  0.0  0.0  0.0  0.0  0.0  ...  0.0  0.0  0.0  0.0   \n",
              "4  0.0  1.0  0.0  0.0  0.0  0.0  0.0  0.0  0.0  0.0  ...  0.0  0.0  0.0  0.0   \n",
              "\n",
              "    35  Type  Gender  Outcome  Outcome linked to object of search  \\\n",
              "0  0.0     1       1        0                                   0   \n",
              "1  0.0     1       1        0                                   0   \n",
              "2  0.0     0       0        1                                   1   \n",
              "3  0.0     0       0        1                                   1   \n",
              "4  0.0     1       1        1                                   1   \n",
              "\n",
              "   Removal of more than just outer clothing  \n",
              "0                                         0  \n",
              "1                                         0  \n",
              "2                                         0  \n",
              "3                                         0  \n",
              "4                                         0  \n",
              "\n",
              "[5 rows x 41 columns]"
            ]
          },
          "metadata": {
            "tags": []
          },
          "execution_count": 17
        }
      ]
    },
    {
      "cell_type": "code",
      "metadata": {
        "id": "_niZV8TdBwh6",
        "outputId": "522b020c-3a04-4a5a-bf9a-baea51ed05da"
      },
      "source": [
        "target = data_out['Outcome']\n",
        "target.shape"
      ],
      "execution_count": null,
      "outputs": [
        {
          "output_type": "execute_result",
          "data": {
            "text/plain": [
              "(1861,)"
            ]
          },
          "metadata": {
            "tags": []
          },
          "execution_count": 18
        }
      ]
    },
    {
      "cell_type": "code",
      "metadata": {
        "id": "JwUflcqnBwh7"
      },
      "source": [
        "from sklearn.model_selection import train_test_split\n",
        "X_train,X_test,y_train,y_test = train_test_split(data_final,target,test_size=0.75,random_state=0)"
      ],
      "execution_count": null,
      "outputs": []
    },
    {
      "cell_type": "code",
      "metadata": {
        "id": "yXV1OWgrBwh7",
        "outputId": "2defd4ea-1238-4068-acc6-f6387c40d64f"
      },
      "source": [
        "from sklearn.linear_model import LogisticRegression\n",
        "\n",
        "classifier = LogisticRegression(random_state=0)\n",
        "classifier.fit(X_train, y_train)"
      ],
      "execution_count": null,
      "outputs": [
        {
          "output_type": "execute_result",
          "data": {
            "text/plain": [
              "LogisticRegression(C=1.0, class_weight=None, dual=False, fit_intercept=True,\n",
              "                   intercept_scaling=1, l1_ratio=None, max_iter=100,\n",
              "                   multi_class='auto', n_jobs=None, penalty='l2',\n",
              "                   random_state=0, solver='lbfgs', tol=0.0001, verbose=0,\n",
              "                   warm_start=False)"
            ]
          },
          "metadata": {
            "tags": []
          },
          "execution_count": 20
        }
      ]
    },
    {
      "cell_type": "code",
      "metadata": {
        "id": "tSnoVebNBwh7"
      },
      "source": [
        "y_pred = classifier.predict(X_test)"
      ],
      "execution_count": null,
      "outputs": []
    },
    {
      "cell_type": "code",
      "metadata": {
        "id": "f4DLGR7jBwh7",
        "outputId": "b5c58894-aabb-409d-b756-90bbd589212e"
      },
      "source": [
        "from sklearn.metrics import confusion_matrix\n",
        "cm = confusion_matrix(y_test, y_pred)\n",
        "cm"
      ],
      "execution_count": null,
      "outputs": [
        {
          "output_type": "execute_result",
          "data": {
            "text/plain": [
              "array([[973,  61,   0,   0,  16,   0,   0],\n",
              "       [ 49, 161,   0,   0,  24,   0,   0],\n",
              "       [  2,   3,   0,   0,   0,   0,   0],\n",
              "       [  1,   5,   0,   0,   0,   0,   0],\n",
              "       [ 24,  24,   0,   0,  42,   0,   0],\n",
              "       [  1,   3,   0,   0,   0,   0,   0],\n",
              "       [  0,   4,   0,   0,   3,   0,   0]], dtype=int64)"
            ]
          },
          "metadata": {
            "tags": []
          },
          "execution_count": 22
        }
      ]
    },
    {
      "cell_type": "code",
      "metadata": {
        "id": "MzO20HdvBwh8",
        "outputId": "86e75470-b981-4339-d689-dc519e37b1c8"
      },
      "source": [
        "from sklearn.metrics import accuracy_score\n",
        "accuracy_score(y_test, y_pred)"
      ],
      "execution_count": null,
      "outputs": [
        {
          "output_type": "execute_result",
          "data": {
            "text/plain": [
              "0.8424068767908309"
            ]
          },
          "metadata": {
            "tags": []
          },
          "execution_count": 23
        }
      ]
    },
    {
      "cell_type": "code",
      "metadata": {
        "id": "PMRLaHX_Bwh8"
      },
      "source": [
        "import itertools\n",
        "from sklearn.metrics import classification_report,confusion_matrix"
      ],
      "execution_count": null,
      "outputs": []
    },
    {
      "cell_type": "code",
      "metadata": {
        "id": "HgvQGLHBBwh8"
      },
      "source": [
        "def plot_confusion_matrix(cm,classes,normalize=False,title=\"Confusion matrix\",cmap=plt.cm.Blues):\n",
        "  plt.imshow(cm,interpolation='nearest',cmap=cmap)\n",
        "  plt.title(title)\n",
        "  plt.colorbar()\n",
        "  tick_marks=np.arange(len(classes))\n",
        "  plt.xticks(tick_marks,classes,rotation=45)\n",
        "  plt.yticks(tick_marks,classes)\n",
        "  \n",
        "  if normalize:\n",
        "    cm = cm.astype('float')/cm.sum(axis=1)[:,np.newaxis]\n",
        "    print(\"Normalized Confusion Matrix\")\n",
        "  else:\n",
        "    print(\"confusion matrix, without normalization\")\n",
        "  print(cm)\n",
        "  thresh = cm.max()/2\n",
        "  for i,j in itertools.product(range(cm.shape[0]),range(cm.shape[1])):\n",
        "    plt.text(j,i,cm[i,j],horizontalalignment='center',\n",
        "             color='white' if cm[i,j]>thresh else 'black')\n",
        "  plt.tight_layout()\n",
        "  plt.ylabel('True label')\n",
        "  plt.xlabel('Predicted label')"
      ],
      "execution_count": null,
      "outputs": []
    },
    {
      "cell_type": "code",
      "metadata": {
        "id": "IzcX3w_tBwh9",
        "outputId": "c9f14dae-77ea-4b20-a307-4057ecaeb6ae"
      },
      "source": [
        "cm_plot_labels=[0,1,2,3,4,5,6]\n",
        "plot_confusion_matrix(cm,cm_plot_labels,title='Confusion Matrix')"
      ],
      "execution_count": null,
      "outputs": [
        {
          "output_type": "stream",
          "text": [
            "confusion matrix, without normalization\n",
            "[[973  61   0   0  16   0   0]\n",
            " [ 49 161   0   0  24   0   0]\n",
            " [  2   3   0   0   0   0   0]\n",
            " [  1   5   0   0   0   0   0]\n",
            " [ 24  24   0   0  42   0   0]\n",
            " [  1   3   0   0   0   0   0]\n",
            " [  0   4   0   0   3   0   0]]\n"
          ],
          "name": "stdout"
        },
        {
          "output_type": "display_data",
          "data": {
            "image/png": "[encoded data removed]",
            "text/plain": [
              "<Figure size 432x288 with 2 Axes>"
            ]
          },
          "metadata": {
            "tags": [],
            "needs_background": "light"
          }
        }
      ]
    },
    {
      "cell_type": "code",
      "metadata": {
        "id": "Qndpone7Bwh9",
        "outputId": "0bbd044f-cdd4-4619-d346-6b6ef7ad56af"
      },
      "source": [
        "from sklearn.model_selection import learning_curve\n",
        "train_sizes, train_scores, test_scores = learning_curve(estimator=LogisticRegression(), X=X_train, y=y_train,\n",
        "                                                       cv=10, train_sizes=np.linspace(0.1, 1.0, 10),\n",
        "                                                     n_jobs=1)\n",
        "#\n",
        "# Calculate training and test mean and std\n",
        "#\n",
        "train_mean = np.mean(train_scores, axis=1)\n",
        "train_std = np.std(train_scores, axis=1)\n",
        "test_mean = np.mean(test_scores, axis=1)\n",
        "test_std = np.std(test_scores, axis=1)\n",
        "#\n",
        "# Plot the learning curve\n",
        "#\n",
        "plt.plot(train_sizes, train_mean, color='blue', marker='o', markersize=5, label='Training Accuracy')\n",
        "plt.fill_between(train_sizes, train_mean + train_std, train_mean - train_std, alpha=0.15, color='blue')\n",
        "plt.plot(train_sizes, test_mean, color='green', marker='+', markersize=5, linestyle='--', label='Validation Accuracy')\n",
        "plt.fill_between(train_sizes, test_mean + test_std, test_mean - test_std, alpha=0.15, color='green')\n",
        "plt.title('Learning Curve')\n",
        "plt.xlabel('Training Data Size')\n",
        "plt.ylabel('Model accuracy')\n",
        "plt.grid()\n",
        "plt.legend(loc='lower right')\n",
        "plt.show()"
      ],
      "execution_count": null,
      "outputs": [
        {
          "output_type": "stream",
          "text": [
            "C:\\Users\\hp\\Anaconda3\\lib\\site-packages\\sklearn\\model_selection\\_split.py:667: UserWarning: The least populated class in y has only 1 members, which is less than n_splits=10.\n",
            "  % (min_groups, self.n_splits)), UserWarning)\n",
            "C:\\Users\\hp\\Anaconda3\\lib\\site-packages\\sklearn\\linear_model\\_logistic.py:940: ConvergenceWarning: lbfgs failed to converge (status=1):\n",
            "STOP: TOTAL NO. of ITERATIONS REACHED LIMIT.\n",
            "\n",
            "Increase the number of iterations (max_iter) or scale the data as shown in:\n",
            "    https://scikit-learn.org/stable/modules/preprocessing.html\n",
            "Please also refer to the documentation for alternative solver options:\n",
            "    https://scikit-learn.org/stable/modules/linear_model.html#logistic-regression\n",
            "  extra_warning_msg=_LOGISTIC_SOLVER_CONVERGENCE_MSG)\n",
            "C:\\Users\\hp\\Anaconda3\\lib\\site-packages\\sklearn\\linear_model\\_logistic.py:940: ConvergenceWarning: lbfgs failed to converge (status=1):\n",
            "STOP: TOTAL NO. of ITERATIONS REACHED LIMIT.\n",
            "\n",
            "Increase the number of iterations (max_iter) or scale the data as shown in:\n",
            "    https://scikit-learn.org/stable/modules/preprocessing.html\n",
            "Please also refer to the documentation for alternative solver options:\n",
            "    https://scikit-learn.org/stable/modules/linear_model.html#logistic-regression\n",
            "  extra_warning_msg=_LOGISTIC_SOLVER_CONVERGENCE_MSG)\n",
            "C:\\Users\\hp\\Anaconda3\\lib\\site-packages\\sklearn\\linear_model\\_logistic.py:940: ConvergenceWarning: lbfgs failed to converge (status=1):\n",
            "STOP: TOTAL NO. of ITERATIONS REACHED LIMIT.\n",
            "\n",
            "Increase the number of iterations (max_iter) or scale the data as shown in:\n",
            "    https://scikit-learn.org/stable/modules/preprocessing.html\n",
            "Please also refer to the documentation for alternative solver options:\n",
            "    https://scikit-learn.org/stable/modules/linear_model.html#logistic-regression\n",
            "  extra_warning_msg=_LOGISTIC_SOLVER_CONVERGENCE_MSG)\n",
            "C:\\Users\\hp\\Anaconda3\\lib\\site-packages\\sklearn\\linear_model\\_logistic.py:940: ConvergenceWarning: lbfgs failed to converge (status=1):\n",
            "STOP: TOTAL NO. of ITERATIONS REACHED LIMIT.\n",
            "\n",
            "Increase the number of iterations (max_iter) or scale the data as shown in:\n",
            "    https://scikit-learn.org/stable/modules/preprocessing.html\n",
            "Please also refer to the documentation for alternative solver options:\n",
            "    https://scikit-learn.org/stable/modules/linear_model.html#logistic-regression\n",
            "  extra_warning_msg=_LOGISTIC_SOLVER_CONVERGENCE_MSG)\n",
            "C:\\Users\\hp\\Anaconda3\\lib\\site-packages\\sklearn\\linear_model\\_logistic.py:940: ConvergenceWarning: lbfgs failed to converge (status=1):\n",
            "STOP: TOTAL NO. of ITERATIONS REACHED LIMIT.\n",
            "\n",
            "Increase the number of iterations (max_iter) or scale the data as shown in:\n",
            "    https://scikit-learn.org/stable/modules/preprocessing.html\n",
            "Please also refer to the documentation for alternative solver options:\n",
            "    https://scikit-learn.org/stable/modules/linear_model.html#logistic-regression\n",
            "  extra_warning_msg=_LOGISTIC_SOLVER_CONVERGENCE_MSG)\n",
            "C:\\Users\\hp\\Anaconda3\\lib\\site-packages\\sklearn\\linear_model\\_logistic.py:940: ConvergenceWarning: lbfgs failed to converge (status=1):\n",
            "STOP: TOTAL NO. of ITERATIONS REACHED LIMIT.\n",
            "\n",
            "Increase the number of iterations (max_iter) or scale the data as shown in:\n",
            "    https://scikit-learn.org/stable/modules/preprocessing.html\n",
            "Please also refer to the documentation for alternative solver options:\n",
            "    https://scikit-learn.org/stable/modules/linear_model.html#logistic-regression\n",
            "  extra_warning_msg=_LOGISTIC_SOLVER_CONVERGENCE_MSG)\n",
            "C:\\Users\\hp\\Anaconda3\\lib\\site-packages\\sklearn\\linear_model\\_logistic.py:940: ConvergenceWarning: lbfgs failed to converge (status=1):\n",
            "STOP: TOTAL NO. of ITERATIONS REACHED LIMIT.\n",
            "\n",
            "Increase the number of iterations (max_iter) or scale the data as shown in:\n",
            "    https://scikit-learn.org/stable/modules/preprocessing.html\n",
            "Please also refer to the documentation for alternative solver options:\n",
            "    https://scikit-learn.org/stable/modules/linear_model.html#logistic-regression\n",
            "  extra_warning_msg=_LOGISTIC_SOLVER_CONVERGENCE_MSG)\n"
          ],
          "name": "stderr"
        },
        {
          "output_type": "display_data",
          "data": {
            "image/png": "[encoded data removed]",
            "text/plain": [
              "<Figure size 432x288 with 1 Axes>"
            ]
          },
          "metadata": {
            "tags": [],
            "needs_background": "light"
          }
        }
      ]
    },
    {
      "cell_type": "code",
      "metadata": {
        "id": "6tj5hSIPBwh9",
        "outputId": "1c0efdc2-c8ba-4449-bda3-b48edede36c8"
      },
      "source": [
        "from sklearn.metrics import classification_report\n",
        "cr = classification_report(y_test, y_pred, target_names=['0','1','2','3','4','5','6'])"
      ],
      "execution_count": null,
      "outputs": [
        {
          "output_type": "stream",
          "text": [
            "C:\\Users\\hp\\Anaconda3\\lib\\site-packages\\sklearn\\metrics\\_classification.py:1272: UndefinedMetricWarning: Precision and F-score are ill-defined and being set to 0.0 in labels with no predicted samples. Use `zero_division` parameter to control this behavior.\n",
            "  _warn_prf(average, modifier, msg_start, len(result))\n",
            "C:\\Users\\hp\\Anaconda3\\lib\\site-packages\\sklearn\\metrics\\_classification.py:1272: UndefinedMetricWarning: Precision and F-score are ill-defined and being set to 0.0 in labels with no predicted samples. Use `zero_division` parameter to control this behavior.\n",
            "  _warn_prf(average, modifier, msg_start, len(result))\n",
            "C:\\Users\\hp\\Anaconda3\\lib\\site-packages\\sklearn\\metrics\\_classification.py:1272: UndefinedMetricWarning: Precision and F-score are ill-defined and being set to 0.0 in labels with no predicted samples. Use `zero_division` parameter to control this behavior.\n",
            "  _warn_prf(average, modifier, msg_start, len(result))\n"
          ],
          "name": "stderr"
        }
      ]
    },
    {
      "cell_type": "code",
      "metadata": {
        "id": "flH4a__XBwh-",
        "outputId": "377c8599-a360-47e9-98f6-72c677a39ed5"
      },
      "source": [
        "print(cr)"
      ],
      "execution_count": null,
      "outputs": [
        {
          "output_type": "stream",
          "text": [
            "              precision    recall  f1-score   support\n",
            "\n",
            "           0       0.93      0.93      0.93      1050\n",
            "           1       0.62      0.69      0.65       234\n",
            "           2       0.00      0.00      0.00         5\n",
            "           3       0.00      0.00      0.00         6\n",
            "           4       0.49      0.47      0.48        90\n",
            "           5       0.00      0.00      0.00         4\n",
            "           6       0.00      0.00      0.00         7\n",
            "\n",
            "    accuracy                           0.84      1396\n",
            "   macro avg       0.29      0.30      0.29      1396\n",
            "weighted avg       0.83      0.84      0.84      1396\n",
            "\n"
          ],
          "name": "stdout"
        }
      ]
    },
    {
      "cell_type": "code",
      "metadata": {
        "id": "B9X6FzVNBwh-",
        "outputId": "14d0440c-65a7-47e5-a459-13aa9d9f2707"
      },
      "source": [
        "df['Outcome'].value_counts()"
      ],
      "execution_count": null,
      "outputs": [
        {
          "output_type": "execute_result",
          "data": {
            "text/plain": [
              "A no further action disposal       1397\n",
              "Arrest                              306\n",
              "Khat or Cannabis warning            123\n",
              "Summons / charged by post            11\n",
              "Community resolution                 10\n",
              "Penalty Notice for Disorder           8\n",
              "Caution (simple or conditional)       6\n",
              "Name: Outcome, dtype: int64"
            ]
          },
          "metadata": {
            "tags": []
          },
          "execution_count": 30
        }
      ]
    },
    {
      "cell_type": "code",
      "metadata": {
        "id": "W0w4fp3LBwh-"
      },
      "source": [
        "from sklearn.ensemble import RandomForestClassifier\n",
        "clf = RandomForestClassifier(random_state=0)\n",
        "clf.fit(X_train, y_train)\n",
        "y_pred= clf.predict(X_test)\n"
      ],
      "execution_count": null,
      "outputs": []
    },
    {
      "cell_type": "code",
      "metadata": {
        "id": "th4KRNtjBwh_",
        "outputId": "5b65510a-576a-42c6-a462-685284d2b350"
      },
      "source": [
        "from sklearn.metrics import accuracy_score\n",
        "accuracy_score(y_test, y_pred)"
      ],
      "execution_count": null,
      "outputs": [
        {
          "output_type": "execute_result",
          "data": {
            "text/plain": [
              "0.8237822349570201"
            ]
          },
          "metadata": {
            "tags": []
          },
          "execution_count": 33
        }
      ]
    },
    {
      "cell_type": "code",
      "metadata": {
        "id": "anwKLDIfBwh_",
        "outputId": "18e83b90-ecd4-4bf8-adbc-d0637dcd756f"
      },
      "source": [
        "cm_plot_labels=[0,1,2,3,4,5,6]\n",
        "cm = confusion_matrix(y_test, y_pred)\n",
        "cm\n",
        "plot_confusion_matrix(cm,cm_plot_labels,title='Confusion Matrix')"
      ],
      "execution_count": null,
      "outputs": [
        {
          "output_type": "stream",
          "text": [
            "confusion matrix, without normalization\n",
            "[[967  61   1   3  17   0   1]\n",
            " [ 55 143   2   9  15   0  10]\n",
            " [  2   3   0   0   0   0   0]\n",
            " [  1   2   0   3   0   0   0]\n",
            " [ 17  36   3   0  34   0   0]\n",
            " [  2   1   0   0   1   0   0]\n",
            " [  2   1   0   0   1   0   3]]\n"
          ],
          "name": "stdout"
        },
        {
          "output_type": "display_data",
          "data": {
            "image/png": "[encoded data removed]",
            "text/plain": [
              "<Figure size 432x288 with 2 Axes>"
            ]
          },
          "metadata": {
            "tags": [],
            "needs_background": "light"
          }
        }
      ]
    },
    {
      "cell_type": "code",
      "metadata": {
        "id": "pEmjUfsMBwh_",
        "outputId": "9a4ba07c-3279-40c2-e439-33bea539e28f"
      },
      "source": [
        "plt.figure(figsize=(4,5))\n",
        "plt.bar(x=['Logisitc','Random Forest'],height=[82.37,84.20])\n",
        "plt.xlabel('Classifier')\n",
        "plt.ylabel('Accuracy')\n",
        "plt.title('Classifier vs Accuracy')\n",
        "plt.show()"
      ],
      "execution_count": null,
      "outputs": [
        {
          "output_type": "display_data",
          "data": {
            "image/png": "[encoded data removed]",
            "text/plain": [
              "<Figure size 288x360 with 1 Axes>"
            ]
          },
          "metadata": {
            "tags": [],
            "needs_background": "light"
          }
        }
      ]
    },
    {
      "cell_type": "code",
      "metadata": {
        "id": "N9tbVLMoBwiA"
      },
      "source": [
        ""
      ],
      "execution_count": null,
      "outputs": []
    }
  ]
}
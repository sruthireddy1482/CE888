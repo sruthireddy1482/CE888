{
  "nbformat": 4,
  "nbformat_minor": 0,
  "metadata": {
    "kernelspec": {
      "display_name": "Python 3",
      "language": "python",
      "name": "python3"
    },
    "language_info": {
      "codemirror_mode": {
        "name": "ipython",
        "version": 3
      },
      "file_extension": ".py",
      "mimetype": "text/x-python",
      "name": "python",
      "nbconvert_exporter": "python",
      "pygments_lexer": "ipython3",
      "version": "3.7.4"
    },
    "colab": {
      "name": "London_police_bias mitigation.ipynb",
      "provenance": [],
      "collapsed_sections": [],
      "include_colab_link": true
    }
  },
  "cells": [
    {
      "cell_type": "markdown",
      "metadata": {
        "id": "view-in-github",
        "colab_type": "text"
      },
      "source": [
        "<a href=\"https://colab.research.google.com/github/sruthireddy1482/CE888/blob/main/Assignment2/London_police_bias_mitigation.ipynb\" target=\"_parent\"><img src=\"https://colab.research.google.com/assets/colab-badge.svg\" alt=\"Open In Colab\"/></a>"
      ]
    },
    {
      "cell_type": "code",
      "metadata": {
        "id": "-3G0xvYICORP"
      },
      "source": [
        "import pandas as pd\n",
        "import numpy as np\n",
        "import seaborn as sns\n",
        "import matplotlib.pyplot as plt\n",
        "from aif360.datasets import BinaryLabelDataset\n",
        "from sklearn.preprocessing import StandardScaler\n",
        "from sklearn.linear_model import LogisticRegression\n",
        "from tqdm import tqdm\n",
        "np.random.seed(1)"
      ],
      "execution_count": null,
      "outputs": []
    },
    {
      "cell_type": "code",
      "metadata": {
        "id": "kTYwWnxPCORa"
      },
      "source": [
        "from aif360.algorithms.preprocessing import Reweighing"
      ],
      "execution_count": null,
      "outputs": []
    },
    {
      "cell_type": "code",
      "metadata": {
        "id": "NFX9uWTBCORb"
      },
      "source": [
        "def get_disparity_index(di):\n",
        "    return 1 - np.minimum(di, 1 / di)\n",
        "\n",
        "\n",
        "def get_bal_acc(classified_metric):\n",
        "    return 0.5 * (classified_metric.true_positive_rate() + classified_metric.true_negative_rate())\n",
        "\n",
        "\n",
        "def train_lr_model(dataset):\n",
        "    scale = StandardScaler().fit(dataset.features)\n",
        "    model = LogisticRegression(random_state=0, solver='liblinear')\n",
        "    x_train = scale.transform(dataset.features)\n",
        "    y_train = dataset.labels.ravel()\n",
        "    model.fit(x_train, y_train, sample_weight=dataset.instance_weights)\n",
        "    y_train_pred = model.predict(x_train)\n",
        "    return model, scale\n",
        "\n",
        "\n",
        "def test_lr_model(y_data_pred_prob, dataset, thresh_arr):\n",
        "    y_pred = (y_data_pred_prob[:,1] > thresh_arr).astype(np.double)\n",
        "    dataset_pred = dataset.copy()\n",
        "    dataset_pred.labels = y_pred\n",
        "    classified_metric = ClassificationMetric(dataset, dataset_pred, unprivileged_group, privileged_group)\n",
        "    metric_pred = BinaryLabelDatasetMetric(dataset_pred, unprivileged_group, privileged_group)\n",
        "    return dataset_pred.labels, classified_metric, metric_pred\n",
        "\n",
        "\n",
        "def get_y_pred_prob_lr(scale, model, dataset):\n",
        "    x = scale.transform(dataset.features)\n",
        "    y_pred_prob = model.predict_proba(x)\n",
        "    return y_pred_prob\n",
        "\n",
        "\n",
        "def get_best_bal_acc_cutoff(y_pred_prob, dataset):\n",
        "    y_validate_pred_prob = y_pred_prob\n",
        "    bal_acc_arr = []\n",
        "    disp_imp_arr = []\n",
        "\n",
        "    for thresh in tqdm(thresh_arr):\n",
        "        y_validate_pred = (y_validate_pred_prob[:,1] > thresh).astype(np.double)\n",
        "        dataset_pred = dataset.copy()\n",
        "        dataset_pred.labels = y_validate_pred\n",
        "\n",
        "        # Calculate accuracy for each threshold value\n",
        "        classified_metric = ClassificationMetric(dataset, dataset_pred, unprivileged_group, privileged_group)\n",
        "        bal_acc = get_bal_acc(classified_metric)\n",
        "        bal_acc_arr.append(bal_acc)\n",
        "\n",
        "        # Calculate fairness for each threshold value\n",
        "        metric_pred = BinaryLabelDatasetMetric(dataset_pred, unprivileged_group, privileged_group)\n",
        "        disp_imp_arr.append(metric_pred.disparate_impact())\n",
        "\n",
        "    # Find threshold for best accuracy\n",
        "    thresh_arr_best_ind = np.where(bal_acc_arr == np.max(bal_acc_arr))[0][0]\n",
        "    thresh_arr_best = np.array(thresh_arr)[thresh_arr_best_ind]\n",
        "\n",
        "    # Calculate accuracy and fairness at this threshold\n",
        "    best_bal_acc = bal_acc_arr[thresh_arr_best_ind]\n",
        "    disp_imp_at_best_bal_acc = disp_imp_arr[thresh_arr_best_ind]\n",
        "\n",
        "    # Output metrics\n",
        "    acc_metrics = pd.DataFrame({'thresh_arr_best_ind' : thresh_arr_best_ind, \\\n",
        "    'thresh_arr_best' : thresh_arr_best, \\\n",
        "    'best_bal_acc' : best_bal_acc, \\\n",
        "    'disp_imp_at_best_bal_acc' : disp_imp_at_best_bal_acc}, index=[0]).transpose()\n",
        "    return acc_metrics, bal_acc_arr, disp_imp_arr, dataset_pred.labels\n",
        "\n",
        "\n",
        "def plot_acc_vs_fairness(metric, metric_name, bal_acc_arr, thresh_arr_best_ind):\n",
        "    fig, ax1 = plt.subplots(figsize=(10, 7))\n",
        "    ax1.plot(thresh_arr, bal_acc_arr, color='b')\n",
        "    ax1.set_xlabel('Classification Thresholds', fontsize=16, fontweight='bold')\n",
        "    ax1.set_ylabel('Balanced Accuracy', color='b', fontsize=16, fontweight='bold')\n",
        "    ax1.xaxis.set_tick_params(labelsize=14)\n",
        "    ax1.yaxis.set_tick_params(labelsize=14, labelcolor='b')\n",
        "    ax2 = ax1.twinx()\n",
        "    ax2.plot(thresh_arr, metric, color='r')\n",
        "    ax2.set_ylabel(metric_name, color='r', fontsize=16, fontweight='bold')\n",
        "    ax2.axvline(np.array(thresh_arr)[thresh_arr_best_ind], color='k', linestyle=':')\n",
        "    ax2.yaxis.set_tick_params(labelsize=14, labelcolor='r')\n",
        "    ax2.grid(True)"
      ],
      "execution_count": null,
      "outputs": []
    },
    {
      "cell_type": "code",
      "metadata": {
        "id": "6vVF9UwBCORc",
        "outputId": "776e89f9-4aea-481b-da30-2a3d61fa0a7c"
      },
      "source": [
        "dataframe=pd.read_csv(\"https://raw.githubusercontent.com/sruthireddy1482/CE888/main/London-stopandserach.csv\")\n",
        "dataframe.head()"
      ],
      "execution_count": null,
      "outputs": [
        {
          "output_type": "execute_result",
          "data": {
            "text/html": [
              "<div>\n",
              "<style scoped>\n",
              "    .dataframe tbody tr th:only-of-type {\n",
              "        vertical-align: middle;\n",
              "    }\n",
              "\n",
              "    .dataframe tbody tr th {\n",
              "        vertical-align: top;\n",
              "    }\n",
              "\n",
              "    .dataframe thead th {\n",
              "        text-align: right;\n",
              "    }\n",
              "</style>\n",
              "<table border=\"1\" class=\"dataframe\">\n",
              "  <thead>\n",
              "    <tr style=\"text-align: right;\">\n",
              "      <th></th>\n",
              "      <th>Type</th>\n",
              "      <th>Date</th>\n",
              "      <th>Part of a policing operation</th>\n",
              "      <th>Policing operation</th>\n",
              "      <th>Latitude</th>\n",
              "      <th>Longitude</th>\n",
              "      <th>Gender</th>\n",
              "      <th>Age range</th>\n",
              "      <th>Self-defined ethnicity</th>\n",
              "      <th>Officer-defined ethnicity</th>\n",
              "      <th>Legislation</th>\n",
              "      <th>Object of search</th>\n",
              "      <th>Outcome</th>\n",
              "      <th>Outcome linked to object of search</th>\n",
              "      <th>Removal of more than just outer clothing</th>\n",
              "    </tr>\n",
              "  </thead>\n",
              "  <tbody>\n",
              "    <tr>\n",
              "      <td>0</td>\n",
              "      <td>Person search</td>\n",
              "      <td>2020-07-01T02:16:55+00:00</td>\n",
              "      <td>NaN</td>\n",
              "      <td>NaN</td>\n",
              "      <td>51.517196</td>\n",
              "      <td>-0.085149</td>\n",
              "      <td>Male</td>\n",
              "      <td>18-24</td>\n",
              "      <td>Other ethnic group - Not stated</td>\n",
              "      <td>White</td>\n",
              "      <td>Misuse of Drugs Act 1971 (section 23)</td>\n",
              "      <td>Controlled drugs</td>\n",
              "      <td>A no further action disposal</td>\n",
              "      <td>False</td>\n",
              "      <td>False</td>\n",
              "    </tr>\n",
              "    <tr>\n",
              "      <td>1</td>\n",
              "      <td>Person search</td>\n",
              "      <td>2020-07-01T02:16:55+00:00</td>\n",
              "      <td>NaN</td>\n",
              "      <td>NaN</td>\n",
              "      <td>51.517196</td>\n",
              "      <td>-0.085149</td>\n",
              "      <td>Male</td>\n",
              "      <td>18-24</td>\n",
              "      <td>Other ethnic group - Not stated</td>\n",
              "      <td>White</td>\n",
              "      <td>Misuse of Drugs Act 1971 (section 23)</td>\n",
              "      <td>Controlled drugs</td>\n",
              "      <td>A no further action disposal</td>\n",
              "      <td>False</td>\n",
              "      <td>False</td>\n",
              "    </tr>\n",
              "    <tr>\n",
              "      <td>2</td>\n",
              "      <td>Person and Vehicle search</td>\n",
              "      <td>2020-07-01T03:10:05+00:00</td>\n",
              "      <td>NaN</td>\n",
              "      <td>NaN</td>\n",
              "      <td>51.512117</td>\n",
              "      <td>-0.102411</td>\n",
              "      <td>Female</td>\n",
              "      <td>over 34</td>\n",
              "      <td>White - English/Welsh/Scottish/Northern Irish/...</td>\n",
              "      <td>White</td>\n",
              "      <td>Misuse of Drugs Act 1971 (section 23)</td>\n",
              "      <td>Controlled drugs</td>\n",
              "      <td>Arrest</td>\n",
              "      <td>True</td>\n",
              "      <td>False</td>\n",
              "    </tr>\n",
              "    <tr>\n",
              "      <td>3</td>\n",
              "      <td>Person and Vehicle search</td>\n",
              "      <td>2020-07-01T03:10:05+00:00</td>\n",
              "      <td>NaN</td>\n",
              "      <td>NaN</td>\n",
              "      <td>51.512117</td>\n",
              "      <td>-0.102411</td>\n",
              "      <td>Female</td>\n",
              "      <td>over 34</td>\n",
              "      <td>White - English/Welsh/Scottish/Northern Irish/...</td>\n",
              "      <td>White</td>\n",
              "      <td>Misuse of Drugs Act 1971 (section 23)</td>\n",
              "      <td>Controlled drugs</td>\n",
              "      <td>Arrest</td>\n",
              "      <td>True</td>\n",
              "      <td>False</td>\n",
              "    </tr>\n",
              "    <tr>\n",
              "      <td>4</td>\n",
              "      <td>Person search</td>\n",
              "      <td>2020-07-01T03:16:33+00:00</td>\n",
              "      <td>NaN</td>\n",
              "      <td>NaN</td>\n",
              "      <td>51.512117</td>\n",
              "      <td>-0.102411</td>\n",
              "      <td>Male</td>\n",
              "      <td>25-34</td>\n",
              "      <td>White - English/Welsh/Scottish/Northern Irish/...</td>\n",
              "      <td>White</td>\n",
              "      <td>Misuse of Drugs Act 1971 (section 23)</td>\n",
              "      <td>Controlled drugs</td>\n",
              "      <td>Arrest</td>\n",
              "      <td>True</td>\n",
              "      <td>False</td>\n",
              "    </tr>\n",
              "  </tbody>\n",
              "</table>\n",
              "</div>"
            ],
            "text/plain": [
              "                        Type                       Date  \\\n",
              "0              Person search  2020-07-01T02:16:55+00:00   \n",
              "1              Person search  2020-07-01T02:16:55+00:00   \n",
              "2  Person and Vehicle search  2020-07-01T03:10:05+00:00   \n",
              "3  Person and Vehicle search  2020-07-01T03:10:05+00:00   \n",
              "4              Person search  2020-07-01T03:16:33+00:00   \n",
              "\n",
              "   Part of a policing operation  Policing operation   Latitude  Longitude  \\\n",
              "0                           NaN                 NaN  51.517196  -0.085149   \n",
              "1                           NaN                 NaN  51.517196  -0.085149   \n",
              "2                           NaN                 NaN  51.512117  -0.102411   \n",
              "3                           NaN                 NaN  51.512117  -0.102411   \n",
              "4                           NaN                 NaN  51.512117  -0.102411   \n",
              "\n",
              "   Gender Age range                             Self-defined ethnicity  \\\n",
              "0    Male     18-24                    Other ethnic group - Not stated   \n",
              "1    Male     18-24                    Other ethnic group - Not stated   \n",
              "2  Female   over 34  White - English/Welsh/Scottish/Northern Irish/...   \n",
              "3  Female   over 34  White - English/Welsh/Scottish/Northern Irish/...   \n",
              "4    Male     25-34  White - English/Welsh/Scottish/Northern Irish/...   \n",
              "\n",
              "  Officer-defined ethnicity                            Legislation  \\\n",
              "0                     White  Misuse of Drugs Act 1971 (section 23)   \n",
              "1                     White  Misuse of Drugs Act 1971 (section 23)   \n",
              "2                     White  Misuse of Drugs Act 1971 (section 23)   \n",
              "3                     White  Misuse of Drugs Act 1971 (section 23)   \n",
              "4                     White  Misuse of Drugs Act 1971 (section 23)   \n",
              "\n",
              "   Object of search                       Outcome  \\\n",
              "0  Controlled drugs  A no further action disposal   \n",
              "1  Controlled drugs  A no further action disposal   \n",
              "2  Controlled drugs                        Arrest   \n",
              "3  Controlled drugs                        Arrest   \n",
              "4  Controlled drugs                        Arrest   \n",
              "\n",
              "   Outcome linked to object of search  \\\n",
              "0                               False   \n",
              "1                               False   \n",
              "2                                True   \n",
              "3                                True   \n",
              "4                                True   \n",
              "\n",
              "   Removal of more than just outer clothing  \n",
              "0                                     False  \n",
              "1                                     False  \n",
              "2                                     False  \n",
              "3                                     False  \n",
              "4                                     False  "
            ]
          },
          "metadata": {
            "tags": []
          },
          "execution_count": 6
        }
      ]
    },
    {
      "cell_type": "code",
      "metadata": {
        "id": "GYr8TGb3CORd",
        "outputId": "67e9f5b3-d3b2-406e-bf5f-4b88a51c23ef"
      },
      "source": [
        "null = ['Part of a policing operation','Policing operation']\n",
        "df = dataframe.drop(columns=null,axis=1)\n",
        "df.head()"
      ],
      "execution_count": null,
      "outputs": [
        {
          "output_type": "execute_result",
          "data": {
            "text/html": [
              "<div>\n",
              "<style scoped>\n",
              "    .dataframe tbody tr th:only-of-type {\n",
              "        vertical-align: middle;\n",
              "    }\n",
              "\n",
              "    .dataframe tbody tr th {\n",
              "        vertical-align: top;\n",
              "    }\n",
              "\n",
              "    .dataframe thead th {\n",
              "        text-align: right;\n",
              "    }\n",
              "</style>\n",
              "<table border=\"1\" class=\"dataframe\">\n",
              "  <thead>\n",
              "    <tr style=\"text-align: right;\">\n",
              "      <th></th>\n",
              "      <th>Type</th>\n",
              "      <th>Date</th>\n",
              "      <th>Latitude</th>\n",
              "      <th>Longitude</th>\n",
              "      <th>Gender</th>\n",
              "      <th>Age range</th>\n",
              "      <th>Self-defined ethnicity</th>\n",
              "      <th>Officer-defined ethnicity</th>\n",
              "      <th>Legislation</th>\n",
              "      <th>Object of search</th>\n",
              "      <th>Outcome</th>\n",
              "      <th>Outcome linked to object of search</th>\n",
              "      <th>Removal of more than just outer clothing</th>\n",
              "    </tr>\n",
              "  </thead>\n",
              "  <tbody>\n",
              "    <tr>\n",
              "      <td>0</td>\n",
              "      <td>Person search</td>\n",
              "      <td>2020-07-01T02:16:55+00:00</td>\n",
              "      <td>51.517196</td>\n",
              "      <td>-0.085149</td>\n",
              "      <td>Male</td>\n",
              "      <td>18-24</td>\n",
              "      <td>Other ethnic group - Not stated</td>\n",
              "      <td>White</td>\n",
              "      <td>Misuse of Drugs Act 1971 (section 23)</td>\n",
              "      <td>Controlled drugs</td>\n",
              "      <td>A no further action disposal</td>\n",
              "      <td>False</td>\n",
              "      <td>False</td>\n",
              "    </tr>\n",
              "    <tr>\n",
              "      <td>1</td>\n",
              "      <td>Person search</td>\n",
              "      <td>2020-07-01T02:16:55+00:00</td>\n",
              "      <td>51.517196</td>\n",
              "      <td>-0.085149</td>\n",
              "      <td>Male</td>\n",
              "      <td>18-24</td>\n",
              "      <td>Other ethnic group - Not stated</td>\n",
              "      <td>White</td>\n",
              "      <td>Misuse of Drugs Act 1971 (section 23)</td>\n",
              "      <td>Controlled drugs</td>\n",
              "      <td>A no further action disposal</td>\n",
              "      <td>False</td>\n",
              "      <td>False</td>\n",
              "    </tr>\n",
              "    <tr>\n",
              "      <td>2</td>\n",
              "      <td>Person and Vehicle search</td>\n",
              "      <td>2020-07-01T03:10:05+00:00</td>\n",
              "      <td>51.512117</td>\n",
              "      <td>-0.102411</td>\n",
              "      <td>Female</td>\n",
              "      <td>over 34</td>\n",
              "      <td>White - English/Welsh/Scottish/Northern Irish/...</td>\n",
              "      <td>White</td>\n",
              "      <td>Misuse of Drugs Act 1971 (section 23)</td>\n",
              "      <td>Controlled drugs</td>\n",
              "      <td>Arrest</td>\n",
              "      <td>True</td>\n",
              "      <td>False</td>\n",
              "    </tr>\n",
              "    <tr>\n",
              "      <td>3</td>\n",
              "      <td>Person and Vehicle search</td>\n",
              "      <td>2020-07-01T03:10:05+00:00</td>\n",
              "      <td>51.512117</td>\n",
              "      <td>-0.102411</td>\n",
              "      <td>Female</td>\n",
              "      <td>over 34</td>\n",
              "      <td>White - English/Welsh/Scottish/Northern Irish/...</td>\n",
              "      <td>White</td>\n",
              "      <td>Misuse of Drugs Act 1971 (section 23)</td>\n",
              "      <td>Controlled drugs</td>\n",
              "      <td>Arrest</td>\n",
              "      <td>True</td>\n",
              "      <td>False</td>\n",
              "    </tr>\n",
              "    <tr>\n",
              "      <td>4</td>\n",
              "      <td>Person search</td>\n",
              "      <td>2020-07-01T03:16:33+00:00</td>\n",
              "      <td>51.512117</td>\n",
              "      <td>-0.102411</td>\n",
              "      <td>Male</td>\n",
              "      <td>25-34</td>\n",
              "      <td>White - English/Welsh/Scottish/Northern Irish/...</td>\n",
              "      <td>White</td>\n",
              "      <td>Misuse of Drugs Act 1971 (section 23)</td>\n",
              "      <td>Controlled drugs</td>\n",
              "      <td>Arrest</td>\n",
              "      <td>True</td>\n",
              "      <td>False</td>\n",
              "    </tr>\n",
              "  </tbody>\n",
              "</table>\n",
              "</div>"
            ],
            "text/plain": [
              "                        Type                       Date   Latitude  Longitude  \\\n",
              "0              Person search  2020-07-01T02:16:55+00:00  51.517196  -0.085149   \n",
              "1              Person search  2020-07-01T02:16:55+00:00  51.517196  -0.085149   \n",
              "2  Person and Vehicle search  2020-07-01T03:10:05+00:00  51.512117  -0.102411   \n",
              "3  Person and Vehicle search  2020-07-01T03:10:05+00:00  51.512117  -0.102411   \n",
              "4              Person search  2020-07-01T03:16:33+00:00  51.512117  -0.102411   \n",
              "\n",
              "   Gender Age range                             Self-defined ethnicity  \\\n",
              "0    Male     18-24                    Other ethnic group - Not stated   \n",
              "1    Male     18-24                    Other ethnic group - Not stated   \n",
              "2  Female   over 34  White - English/Welsh/Scottish/Northern Irish/...   \n",
              "3  Female   over 34  White - English/Welsh/Scottish/Northern Irish/...   \n",
              "4    Male     25-34  White - English/Welsh/Scottish/Northern Irish/...   \n",
              "\n",
              "  Officer-defined ethnicity                            Legislation  \\\n",
              "0                     White  Misuse of Drugs Act 1971 (section 23)   \n",
              "1                     White  Misuse of Drugs Act 1971 (section 23)   \n",
              "2                     White  Misuse of Drugs Act 1971 (section 23)   \n",
              "3                     White  Misuse of Drugs Act 1971 (section 23)   \n",
              "4                     White  Misuse of Drugs Act 1971 (section 23)   \n",
              "\n",
              "   Object of search                       Outcome  \\\n",
              "0  Controlled drugs  A no further action disposal   \n",
              "1  Controlled drugs  A no further action disposal   \n",
              "2  Controlled drugs                        Arrest   \n",
              "3  Controlled drugs                        Arrest   \n",
              "4  Controlled drugs                        Arrest   \n",
              "\n",
              "   Outcome linked to object of search  \\\n",
              "0                               False   \n",
              "1                               False   \n",
              "2                                True   \n",
              "3                                True   \n",
              "4                                True   \n",
              "\n",
              "   Removal of more than just outer clothing  \n",
              "0                                     False  \n",
              "1                                     False  \n",
              "2                                     False  \n",
              "3                                     False  \n",
              "4                                     False  "
            ]
          },
          "metadata": {
            "tags": []
          },
          "execution_count": 9
        }
      ]
    },
    {
      "cell_type": "code",
      "metadata": {
        "id": "5T52cnj5CORe",
        "outputId": "c7d1fd6e-bd73-4aaa-ad66-64d027eeb218"
      },
      "source": [
        "df_updated = df.drop(columns=['Date','Latitude','Longitude'])\n",
        "df_updated.head(3)"
      ],
      "execution_count": null,
      "outputs": [
        {
          "output_type": "execute_result",
          "data": {
            "text/html": [
              "<div>\n",
              "<style scoped>\n",
              "    .dataframe tbody tr th:only-of-type {\n",
              "        vertical-align: middle;\n",
              "    }\n",
              "\n",
              "    .dataframe tbody tr th {\n",
              "        vertical-align: top;\n",
              "    }\n",
              "\n",
              "    .dataframe thead th {\n",
              "        text-align: right;\n",
              "    }\n",
              "</style>\n",
              "<table border=\"1\" class=\"dataframe\">\n",
              "  <thead>\n",
              "    <tr style=\"text-align: right;\">\n",
              "      <th></th>\n",
              "      <th>Type</th>\n",
              "      <th>Gender</th>\n",
              "      <th>Age range</th>\n",
              "      <th>Self-defined ethnicity</th>\n",
              "      <th>Officer-defined ethnicity</th>\n",
              "      <th>Legislation</th>\n",
              "      <th>Object of search</th>\n",
              "      <th>Outcome</th>\n",
              "      <th>Outcome linked to object of search</th>\n",
              "      <th>Removal of more than just outer clothing</th>\n",
              "    </tr>\n",
              "  </thead>\n",
              "  <tbody>\n",
              "    <tr>\n",
              "      <td>0</td>\n",
              "      <td>Person search</td>\n",
              "      <td>Male</td>\n",
              "      <td>18-24</td>\n",
              "      <td>Other ethnic group - Not stated</td>\n",
              "      <td>White</td>\n",
              "      <td>Misuse of Drugs Act 1971 (section 23)</td>\n",
              "      <td>Controlled drugs</td>\n",
              "      <td>A no further action disposal</td>\n",
              "      <td>False</td>\n",
              "      <td>False</td>\n",
              "    </tr>\n",
              "    <tr>\n",
              "      <td>1</td>\n",
              "      <td>Person search</td>\n",
              "      <td>Male</td>\n",
              "      <td>18-24</td>\n",
              "      <td>Other ethnic group - Not stated</td>\n",
              "      <td>White</td>\n",
              "      <td>Misuse of Drugs Act 1971 (section 23)</td>\n",
              "      <td>Controlled drugs</td>\n",
              "      <td>A no further action disposal</td>\n",
              "      <td>False</td>\n",
              "      <td>False</td>\n",
              "    </tr>\n",
              "    <tr>\n",
              "      <td>2</td>\n",
              "      <td>Person and Vehicle search</td>\n",
              "      <td>Female</td>\n",
              "      <td>over 34</td>\n",
              "      <td>White - English/Welsh/Scottish/Northern Irish/...</td>\n",
              "      <td>White</td>\n",
              "      <td>Misuse of Drugs Act 1971 (section 23)</td>\n",
              "      <td>Controlled drugs</td>\n",
              "      <td>Arrest</td>\n",
              "      <td>True</td>\n",
              "      <td>False</td>\n",
              "    </tr>\n",
              "  </tbody>\n",
              "</table>\n",
              "</div>"
            ],
            "text/plain": [
              "                        Type  Gender Age range  \\\n",
              "0              Person search    Male     18-24   \n",
              "1              Person search    Male     18-24   \n",
              "2  Person and Vehicle search  Female   over 34   \n",
              "\n",
              "                              Self-defined ethnicity  \\\n",
              "0                    Other ethnic group - Not stated   \n",
              "1                    Other ethnic group - Not stated   \n",
              "2  White - English/Welsh/Scottish/Northern Irish/...   \n",
              "\n",
              "  Officer-defined ethnicity                            Legislation  \\\n",
              "0                     White  Misuse of Drugs Act 1971 (section 23)   \n",
              "1                     White  Misuse of Drugs Act 1971 (section 23)   \n",
              "2                     White  Misuse of Drugs Act 1971 (section 23)   \n",
              "\n",
              "   Object of search                       Outcome  \\\n",
              "0  Controlled drugs  A no further action disposal   \n",
              "1  Controlled drugs  A no further action disposal   \n",
              "2  Controlled drugs                        Arrest   \n",
              "\n",
              "   Outcome linked to object of search  \\\n",
              "0                               False   \n",
              "1                               False   \n",
              "2                                True   \n",
              "\n",
              "   Removal of more than just outer clothing  \n",
              "0                                     False  \n",
              "1                                     False  \n",
              "2                                     False  "
            ]
          },
          "metadata": {
            "tags": []
          },
          "execution_count": 10
        }
      ]
    },
    {
      "cell_type": "code",
      "metadata": {
        "id": "95yQpWWXCORe"
      },
      "source": [
        "from sklearn import preprocessing \n",
        "label = preprocessing.LabelEncoder() \n",
        "cols=['Removal of more than just outer clothing','Self-defined ethnicity']\n",
        "df[cols] = df[cols].astype(str)\n",
        "df1_lc = df[cols].apply(preprocessing.LabelEncoder().fit_transform)"
      ],
      "execution_count": null,
      "outputs": []
    },
    {
      "cell_type": "code",
      "metadata": {
        "id": "F0n5Y5AuCORe",
        "outputId": "54772255-28b2-4847-872e-b28a232810b9"
      },
      "source": [
        "df1_lc"
      ],
      "execution_count": null,
      "outputs": [
        {
          "output_type": "execute_result",
          "data": {
            "text/html": [
              "<div>\n",
              "<style scoped>\n",
              "    .dataframe tbody tr th:only-of-type {\n",
              "        vertical-align: middle;\n",
              "    }\n",
              "\n",
              "    .dataframe tbody tr th {\n",
              "        vertical-align: top;\n",
              "    }\n",
              "\n",
              "    .dataframe thead th {\n",
              "        text-align: right;\n",
              "    }\n",
              "</style>\n",
              "<table border=\"1\" class=\"dataframe\">\n",
              "  <thead>\n",
              "    <tr style=\"text-align: right;\">\n",
              "      <th></th>\n",
              "      <th>Removal of more than just outer clothing</th>\n",
              "      <th>Self-defined ethnicity</th>\n",
              "    </tr>\n",
              "  </thead>\n",
              "  <tbody>\n",
              "    <tr>\n",
              "      <td>0</td>\n",
              "      <td>0</td>\n",
              "      <td>13</td>\n",
              "    </tr>\n",
              "    <tr>\n",
              "      <td>1</td>\n",
              "      <td>0</td>\n",
              "      <td>13</td>\n",
              "    </tr>\n",
              "    <tr>\n",
              "      <td>2</td>\n",
              "      <td>0</td>\n",
              "      <td>15</td>\n",
              "    </tr>\n",
              "    <tr>\n",
              "      <td>3</td>\n",
              "      <td>0</td>\n",
              "      <td>15</td>\n",
              "    </tr>\n",
              "    <tr>\n",
              "      <td>4</td>\n",
              "      <td>0</td>\n",
              "      <td>15</td>\n",
              "    </tr>\n",
              "    <tr>\n",
              "      <td>...</td>\n",
              "      <td>...</td>\n",
              "      <td>...</td>\n",
              "    </tr>\n",
              "    <tr>\n",
              "      <td>1856</td>\n",
              "      <td>0</td>\n",
              "      <td>13</td>\n",
              "    </tr>\n",
              "    <tr>\n",
              "      <td>1857</td>\n",
              "      <td>0</td>\n",
              "      <td>14</td>\n",
              "    </tr>\n",
              "    <tr>\n",
              "      <td>1858</td>\n",
              "      <td>0</td>\n",
              "      <td>13</td>\n",
              "    </tr>\n",
              "    <tr>\n",
              "      <td>1859</td>\n",
              "      <td>0</td>\n",
              "      <td>14</td>\n",
              "    </tr>\n",
              "    <tr>\n",
              "      <td>1860</td>\n",
              "      <td>0</td>\n",
              "      <td>13</td>\n",
              "    </tr>\n",
              "  </tbody>\n",
              "</table>\n",
              "<p>1861 rows × 2 columns</p>\n",
              "</div>"
            ],
            "text/plain": [
              "      Removal of more than just outer clothing  Self-defined ethnicity\n",
              "0                                            0                      13\n",
              "1                                            0                      13\n",
              "2                                            0                      15\n",
              "3                                            0                      15\n",
              "4                                            0                      15\n",
              "...                                        ...                     ...\n",
              "1856                                         0                      13\n",
              "1857                                         0                      14\n",
              "1858                                         0                      13\n",
              "1859                                         0                      14\n",
              "1860                                         0                      13\n",
              "\n",
              "[1861 rows x 2 columns]"
            ]
          },
          "metadata": {
            "tags": []
          },
          "execution_count": 12
        }
      ]
    },
    {
      "cell_type": "code",
      "metadata": {
        "id": "EE72ocWrCORf"
      },
      "source": [
        "df_onehot = pd.concat([df1_lc, pd.get_dummies(df[['Gender', 'Outcome']])], axis=1)"
      ],
      "execution_count": null,
      "outputs": []
    },
    {
      "cell_type": "code",
      "metadata": {
        "id": "ifGB5V6-CORf",
        "outputId": "098512cd-70f8-404f-f1e2-c343ae05ad07"
      },
      "source": [
        "df_onehot.head(3)"
      ],
      "execution_count": null,
      "outputs": [
        {
          "output_type": "execute_result",
          "data": {
            "text/html": [
              "<div>\n",
              "<style scoped>\n",
              "    .dataframe tbody tr th:only-of-type {\n",
              "        vertical-align: middle;\n",
              "    }\n",
              "\n",
              "    .dataframe tbody tr th {\n",
              "        vertical-align: top;\n",
              "    }\n",
              "\n",
              "    .dataframe thead th {\n",
              "        text-align: right;\n",
              "    }\n",
              "</style>\n",
              "<table border=\"1\" class=\"dataframe\">\n",
              "  <thead>\n",
              "    <tr style=\"text-align: right;\">\n",
              "      <th></th>\n",
              "      <th>Removal of more than just outer clothing</th>\n",
              "      <th>Self-defined ethnicity</th>\n",
              "      <th>Gender_Female</th>\n",
              "      <th>Gender_Male</th>\n",
              "      <th>Outcome_A no further action disposal</th>\n",
              "      <th>Outcome_Arrest</th>\n",
              "      <th>Outcome_Caution (simple or conditional)</th>\n",
              "      <th>Outcome_Community resolution</th>\n",
              "      <th>Outcome_Khat or Cannabis warning</th>\n",
              "      <th>Outcome_Penalty Notice for Disorder</th>\n",
              "      <th>Outcome_Summons / charged by post</th>\n",
              "    </tr>\n",
              "  </thead>\n",
              "  <tbody>\n",
              "    <tr>\n",
              "      <td>0</td>\n",
              "      <td>0</td>\n",
              "      <td>13</td>\n",
              "      <td>0</td>\n",
              "      <td>1</td>\n",
              "      <td>1</td>\n",
              "      <td>0</td>\n",
              "      <td>0</td>\n",
              "      <td>0</td>\n",
              "      <td>0</td>\n",
              "      <td>0</td>\n",
              "      <td>0</td>\n",
              "    </tr>\n",
              "    <tr>\n",
              "      <td>1</td>\n",
              "      <td>0</td>\n",
              "      <td>13</td>\n",
              "      <td>0</td>\n",
              "      <td>1</td>\n",
              "      <td>1</td>\n",
              "      <td>0</td>\n",
              "      <td>0</td>\n",
              "      <td>0</td>\n",
              "      <td>0</td>\n",
              "      <td>0</td>\n",
              "      <td>0</td>\n",
              "    </tr>\n",
              "    <tr>\n",
              "      <td>2</td>\n",
              "      <td>0</td>\n",
              "      <td>15</td>\n",
              "      <td>1</td>\n",
              "      <td>0</td>\n",
              "      <td>0</td>\n",
              "      <td>1</td>\n",
              "      <td>0</td>\n",
              "      <td>0</td>\n",
              "      <td>0</td>\n",
              "      <td>0</td>\n",
              "      <td>0</td>\n",
              "    </tr>\n",
              "  </tbody>\n",
              "</table>\n",
              "</div>"
            ],
            "text/plain": [
              "   Removal of more than just outer clothing  Self-defined ethnicity  \\\n",
              "0                                         0                      13   \n",
              "1                                         0                      13   \n",
              "2                                         0                      15   \n",
              "\n",
              "   Gender_Female  Gender_Male  Outcome_A no further action disposal  \\\n",
              "0              0            1                                     1   \n",
              "1              0            1                                     1   \n",
              "2              1            0                                     0   \n",
              "\n",
              "   Outcome_Arrest  Outcome_Caution (simple or conditional)  \\\n",
              "0               0                                        0   \n",
              "1               0                                        0   \n",
              "2               1                                        0   \n",
              "\n",
              "   Outcome_Community resolution  Outcome_Khat or Cannabis warning  \\\n",
              "0                             0                                 0   \n",
              "1                             0                                 0   \n",
              "2                             0                                 0   \n",
              "\n",
              "   Outcome_Penalty Notice for Disorder  Outcome_Summons / charged by post  \n",
              "0                                    0                                  0  \n",
              "1                                    0                                  0  \n",
              "2                                    0                                  0  "
            ]
          },
          "metadata": {
            "tags": []
          },
          "execution_count": 14
        }
      ]
    },
    {
      "cell_type": "code",
      "metadata": {
        "id": "yxqtU-NtCORf",
        "outputId": "6c694ed0-406b-4416-c7e6-1b1c57311002"
      },
      "source": [
        "df_final=df_onehot.dropna(axis=0)\n",
        "df_final.head()"
      ],
      "execution_count": null,
      "outputs": [
        {
          "output_type": "execute_result",
          "data": {
            "text/html": [
              "<div>\n",
              "<style scoped>\n",
              "    .dataframe tbody tr th:only-of-type {\n",
              "        vertical-align: middle;\n",
              "    }\n",
              "\n",
              "    .dataframe tbody tr th {\n",
              "        vertical-align: top;\n",
              "    }\n",
              "\n",
              "    .dataframe thead th {\n",
              "        text-align: right;\n",
              "    }\n",
              "</style>\n",
              "<table border=\"1\" class=\"dataframe\">\n",
              "  <thead>\n",
              "    <tr style=\"text-align: right;\">\n",
              "      <th></th>\n",
              "      <th>Removal of more than just outer clothing</th>\n",
              "      <th>Self-defined ethnicity</th>\n",
              "      <th>Gender_Female</th>\n",
              "      <th>Gender_Male</th>\n",
              "      <th>Outcome_A no further action disposal</th>\n",
              "      <th>Outcome_Arrest</th>\n",
              "      <th>Outcome_Caution (simple or conditional)</th>\n",
              "      <th>Outcome_Community resolution</th>\n",
              "      <th>Outcome_Khat or Cannabis warning</th>\n",
              "      <th>Outcome_Penalty Notice for Disorder</th>\n",
              "      <th>Outcome_Summons / charged by post</th>\n",
              "    </tr>\n",
              "  </thead>\n",
              "  <tbody>\n",
              "    <tr>\n",
              "      <td>0</td>\n",
              "      <td>0</td>\n",
              "      <td>13</td>\n",
              "      <td>0</td>\n",
              "      <td>1</td>\n",
              "      <td>1</td>\n",
              "      <td>0</td>\n",
              "      <td>0</td>\n",
              "      <td>0</td>\n",
              "      <td>0</td>\n",
              "      <td>0</td>\n",
              "      <td>0</td>\n",
              "    </tr>\n",
              "    <tr>\n",
              "      <td>1</td>\n",
              "      <td>0</td>\n",
              "      <td>13</td>\n",
              "      <td>0</td>\n",
              "      <td>1</td>\n",
              "      <td>1</td>\n",
              "      <td>0</td>\n",
              "      <td>0</td>\n",
              "      <td>0</td>\n",
              "      <td>0</td>\n",
              "      <td>0</td>\n",
              "      <td>0</td>\n",
              "    </tr>\n",
              "    <tr>\n",
              "      <td>2</td>\n",
              "      <td>0</td>\n",
              "      <td>15</td>\n",
              "      <td>1</td>\n",
              "      <td>0</td>\n",
              "      <td>0</td>\n",
              "      <td>1</td>\n",
              "      <td>0</td>\n",
              "      <td>0</td>\n",
              "      <td>0</td>\n",
              "      <td>0</td>\n",
              "      <td>0</td>\n",
              "    </tr>\n",
              "    <tr>\n",
              "      <td>3</td>\n",
              "      <td>0</td>\n",
              "      <td>15</td>\n",
              "      <td>1</td>\n",
              "      <td>0</td>\n",
              "      <td>0</td>\n",
              "      <td>1</td>\n",
              "      <td>0</td>\n",
              "      <td>0</td>\n",
              "      <td>0</td>\n",
              "      <td>0</td>\n",
              "      <td>0</td>\n",
              "    </tr>\n",
              "    <tr>\n",
              "      <td>4</td>\n",
              "      <td>0</td>\n",
              "      <td>15</td>\n",
              "      <td>0</td>\n",
              "      <td>1</td>\n",
              "      <td>0</td>\n",
              "      <td>1</td>\n",
              "      <td>0</td>\n",
              "      <td>0</td>\n",
              "      <td>0</td>\n",
              "      <td>0</td>\n",
              "      <td>0</td>\n",
              "    </tr>\n",
              "  </tbody>\n",
              "</table>\n",
              "</div>"
            ],
            "text/plain": [
              "   Removal of more than just outer clothing  Self-defined ethnicity  \\\n",
              "0                                         0                      13   \n",
              "1                                         0                      13   \n",
              "2                                         0                      15   \n",
              "3                                         0                      15   \n",
              "4                                         0                      15   \n",
              "\n",
              "   Gender_Female  Gender_Male  Outcome_A no further action disposal  \\\n",
              "0              0            1                                     1   \n",
              "1              0            1                                     1   \n",
              "2              1            0                                     0   \n",
              "3              1            0                                     0   \n",
              "4              0            1                                     0   \n",
              "\n",
              "   Outcome_Arrest  Outcome_Caution (simple or conditional)  \\\n",
              "0               0                                        0   \n",
              "1               0                                        0   \n",
              "2               1                                        0   \n",
              "3               1                                        0   \n",
              "4               1                                        0   \n",
              "\n",
              "   Outcome_Community resolution  Outcome_Khat or Cannabis warning  \\\n",
              "0                             0                                 0   \n",
              "1                             0                                 0   \n",
              "2                             0                                 0   \n",
              "3                             0                                 0   \n",
              "4                             0                                 0   \n",
              "\n",
              "   Outcome_Penalty Notice for Disorder  Outcome_Summons / charged by post  \n",
              "0                                    0                                  0  \n",
              "1                                    0                                  0  \n",
              "2                                    0                                  0  \n",
              "3                                    0                                  0  \n",
              "4                                    0                                  0  "
            ]
          },
          "metadata": {
            "tags": []
          },
          "execution_count": 15
        }
      ]
    },
    {
      "cell_type": "code",
      "metadata": {
        "id": "3qOwGj4aCORg",
        "outputId": "18c64c2a-202e-4e5d-eb2e-76cfeaad3bfd"
      },
      "source": [
        "df_final.info()"
      ],
      "execution_count": null,
      "outputs": [
        {
          "output_type": "stream",
          "text": [
            "<class 'pandas.core.frame.DataFrame'>\n",
            "Int64Index: 1861 entries, 0 to 1860\n",
            "Data columns (total 11 columns):\n",
            "Removal of more than just outer clothing    1861 non-null int32\n",
            "Self-defined ethnicity                      1861 non-null int32\n",
            "Gender_Female                               1861 non-null uint8\n",
            "Gender_Male                                 1861 non-null uint8\n",
            "Outcome_A no further action disposal        1861 non-null uint8\n",
            "Outcome_Arrest                              1861 non-null uint8\n",
            "Outcome_Caution (simple or conditional)     1861 non-null uint8\n",
            "Outcome_Community resolution                1861 non-null uint8\n",
            "Outcome_Khat or Cannabis warning            1861 non-null uint8\n",
            "Outcome_Penalty Notice for Disorder         1861 non-null uint8\n",
            "Outcome_Summons / charged by post           1861 non-null uint8\n",
            "dtypes: int32(2), uint8(9)\n",
            "memory usage: 45.4 KB\n"
          ],
          "name": "stdout"
        }
      ]
    },
    {
      "cell_type": "code",
      "metadata": {
        "id": "6ClE8yn1CORg"
      },
      "source": [
        ""
      ],
      "execution_count": null,
      "outputs": []
    },
    {
      "cell_type": "code",
      "metadata": {
        "id": "4MQG609yCORg"
      },
      "source": [
        ""
      ],
      "execution_count": null,
      "outputs": []
    },
    {
      "cell_type": "code",
      "metadata": {
        "id": "mM9TqNP9CORg"
      },
      "source": [
        "df_aif = BinaryLabelDataset(df= df_final.drop('Gender_Female', axis=1), label_names=['Gender_Male'], protected_attribute_names=['Removal of more than just outer clothing'])"
      ],
      "execution_count": null,
      "outputs": []
    },
    {
      "cell_type": "code",
      "metadata": {
        "id": "-Qm96UEGCORh",
        "outputId": "2e8ba04c-de4b-4b23-f822-a570d6949b23"
      },
      "source": [
        "df_aif"
      ],
      "execution_count": null,
      "outputs": [
        {
          "output_type": "execute_result",
          "data": {
            "text/plain": [
              "               instance weights                                 features  \\\n",
              "                                                     protected attribute   \n",
              "                                Removal of more than just outer clothing   \n",
              "instance names                                                             \n",
              "0                           1.0                                      0.0   \n",
              "1                           1.0                                      0.0   \n",
              "2                           1.0                                      0.0   \n",
              "3                           1.0                                      0.0   \n",
              "4                           1.0                                      0.0   \n",
              "...                         ...                                      ...   \n",
              "1856                        1.0                                      0.0   \n",
              "1857                        1.0                                      0.0   \n",
              "1858                        1.0                                      0.0   \n",
              "1859                        1.0                                      0.0   \n",
              "1860                        1.0                                      0.0   \n",
              "\n",
              "                                                                            \\\n",
              "                                                                             \n",
              "               Self-defined ethnicity Outcome_A no further action disposal   \n",
              "instance names                                                               \n",
              "0                                13.0                                  1.0   \n",
              "1                                13.0                                  1.0   \n",
              "2                                15.0                                  0.0   \n",
              "3                                15.0                                  0.0   \n",
              "4                                15.0                                  0.0   \n",
              "...                               ...                                  ...   \n",
              "1856                             13.0                                  1.0   \n",
              "1857                             14.0                                  1.0   \n",
              "1858                             13.0                                  1.0   \n",
              "1859                             14.0                                  1.0   \n",
              "1860                             13.0                                  1.0   \n",
              "\n",
              "                                                                       \\\n",
              "                                                                        \n",
              "               Outcome_Arrest Outcome_Caution (simple or conditional)   \n",
              "instance names                                                          \n",
              "0                         0.0                                     0.0   \n",
              "1                         0.0                                     0.0   \n",
              "2                         1.0                                     0.0   \n",
              "3                         1.0                                     0.0   \n",
              "4                         1.0                                     0.0   \n",
              "...                       ...                                     ...   \n",
              "1856                      0.0                                     0.0   \n",
              "1857                      0.0                                     0.0   \n",
              "1858                      0.0                                     0.0   \n",
              "1859                      0.0                                     0.0   \n",
              "1860                      0.0                                     0.0   \n",
              "\n",
              "                                                                              \\\n",
              "                                                                               \n",
              "               Outcome_Community resolution Outcome_Khat or Cannabis warning   \n",
              "instance names                                                                 \n",
              "0                                       0.0                              0.0   \n",
              "1                                       0.0                              0.0   \n",
              "2                                       0.0                              0.0   \n",
              "3                                       0.0                              0.0   \n",
              "4                                       0.0                              0.0   \n",
              "...                                     ...                              ...   \n",
              "1856                                    0.0                              0.0   \n",
              "1857                                    0.0                              0.0   \n",
              "1858                                    0.0                              0.0   \n",
              "1859                                    0.0                              0.0   \n",
              "1860                                    0.0                              0.0   \n",
              "\n",
              "                                                    \\\n",
              "                                                     \n",
              "               Outcome_Penalty Notice for Disorder   \n",
              "instance names                                       \n",
              "0                                              0.0   \n",
              "1                                              0.0   \n",
              "2                                              0.0   \n",
              "3                                              0.0   \n",
              "4                                              0.0   \n",
              "...                                            ...   \n",
              "1856                                           0.0   \n",
              "1857                                           0.0   \n",
              "1858                                           0.0   \n",
              "1859                                           0.0   \n",
              "1860                                           0.0   \n",
              "\n",
              "                                                 labels  \n",
              "                                                         \n",
              "               Outcome_Summons / charged by post         \n",
              "instance names                                           \n",
              "0                                            0.0    1.0  \n",
              "1                                            0.0    1.0  \n",
              "2                                            0.0    0.0  \n",
              "3                                            0.0    0.0  \n",
              "4                                            0.0    1.0  \n",
              "...                                          ...    ...  \n",
              "1856                                         0.0    1.0  \n",
              "1857                                         0.0    1.0  \n",
              "1858                                         0.0    0.0  \n",
              "1859                                         0.0    0.0  \n",
              "1860                                         0.0    1.0  \n",
              "\n",
              "[1861 rows x 11 columns]"
            ]
          },
          "metadata": {
            "tags": []
          },
          "execution_count": 19
        }
      ]
    },
    {
      "cell_type": "code",
      "metadata": {
        "id": "LIDD7H0BCORh"
      },
      "source": [
        "privileged_group = [{'Removal of more than just outer clothing': 0}]\n",
        "unprivileged_group = [{'Removal of more than just outer clothing': 1}]"
      ],
      "execution_count": null,
      "outputs": []
    },
    {
      "cell_type": "code",
      "metadata": {
        "id": "EXtc5RK7CORh",
        "outputId": "b3b30ee0-66ee-487f-979d-756800d949a4"
      },
      "source": [
        "privileged_group"
      ],
      "execution_count": null,
      "outputs": [
        {
          "output_type": "execute_result",
          "data": {
            "text/plain": [
              "[{'Removal of more than just outer clothing': 0}]"
            ]
          },
          "metadata": {
            "tags": []
          },
          "execution_count": 21
        }
      ]
    },
    {
      "cell_type": "code",
      "metadata": {
        "id": "eT3RJN32CORh",
        "outputId": "3911bf3c-5512-407d-f89d-329f569cf660"
      },
      "source": [
        "df_orig_trn, df_orig_val, df_orig_tst = df_aif.split([0.5, 0.8], shuffle=True)\n",
        "print([x.features.shape for x in [df_orig_trn, df_orig_val, df_orig_tst]])"
      ],
      "execution_count": null,
      "outputs": [
        {
          "output_type": "stream",
          "text": [
            "[(930, 9), (558, 9), (373, 9)]\n"
          ],
          "name": "stdout"
        }
      ]
    },
    {
      "cell_type": "code",
      "metadata": {
        "id": "9Nh-ALIECORi",
        "outputId": "849b1285-0158-4368-b3c9-c1434c32ccf1"
      },
      "source": [
        "df_orig_trn"
      ],
      "execution_count": null,
      "outputs": [
        {
          "output_type": "execute_result",
          "data": {
            "text/plain": [
              "               instance weights                                 features  \\\n",
              "                                                     protected attribute   \n",
              "                                Removal of more than just outer clothing   \n",
              "instance names                                                             \n",
              "400                         1.0                                      0.0   \n",
              "664                         1.0                                      0.0   \n",
              "351                         1.0                                      0.0   \n",
              "1065                        1.0                                      0.0   \n",
              "1368                        1.0                                      0.0   \n",
              "...                         ...                                      ...   \n",
              "785                         1.0                                      0.0   \n",
              "1593                        1.0                                      0.0   \n",
              "1446                        1.0                                      0.0   \n",
              "345                         1.0                                      0.0   \n",
              "1335                        1.0                                      0.0   \n",
              "\n",
              "                                                                            \\\n",
              "                                                                             \n",
              "               Self-defined ethnicity Outcome_A no further action disposal   \n",
              "instance names                                                               \n",
              "400                              14.0                                  0.0   \n",
              "664                              13.0                                  1.0   \n",
              "351                              15.0                                  1.0   \n",
              "1065                             13.0                                  1.0   \n",
              "1368                             13.0                                  1.0   \n",
              "...                               ...                                  ...   \n",
              "785                              15.0                                  1.0   \n",
              "1593                             15.0                                  0.0   \n",
              "1446                             13.0                                  1.0   \n",
              "345                              13.0                                  1.0   \n",
              "1335                             15.0                                  0.0   \n",
              "\n",
              "                                                                       \\\n",
              "                                                                        \n",
              "               Outcome_Arrest Outcome_Caution (simple or conditional)   \n",
              "instance names                                                          \n",
              "400                       1.0                                     0.0   \n",
              "664                       0.0                                     0.0   \n",
              "351                       0.0                                     0.0   \n",
              "1065                      0.0                                     0.0   \n",
              "1368                      0.0                                     0.0   \n",
              "...                       ...                                     ...   \n",
              "785                       0.0                                     0.0   \n",
              "1593                      1.0                                     0.0   \n",
              "1446                      0.0                                     0.0   \n",
              "345                       0.0                                     0.0   \n",
              "1335                      0.0                                     0.0   \n",
              "\n",
              "                                                                              \\\n",
              "                                                                               \n",
              "               Outcome_Community resolution Outcome_Khat or Cannabis warning   \n",
              "instance names                                                                 \n",
              "400                                     0.0                              0.0   \n",
              "664                                     0.0                              0.0   \n",
              "351                                     0.0                              0.0   \n",
              "1065                                    0.0                              0.0   \n",
              "1368                                    0.0                              0.0   \n",
              "...                                     ...                              ...   \n",
              "785                                     0.0                              0.0   \n",
              "1593                                    0.0                              0.0   \n",
              "1446                                    0.0                              0.0   \n",
              "345                                     0.0                              0.0   \n",
              "1335                                    0.0                              1.0   \n",
              "\n",
              "                                                    \\\n",
              "                                                     \n",
              "               Outcome_Penalty Notice for Disorder   \n",
              "instance names                                       \n",
              "400                                            0.0   \n",
              "664                                            0.0   \n",
              "351                                            0.0   \n",
              "1065                                           0.0   \n",
              "1368                                           0.0   \n",
              "...                                            ...   \n",
              "785                                            0.0   \n",
              "1593                                           0.0   \n",
              "1446                                           0.0   \n",
              "345                                            0.0   \n",
              "1335                                           0.0   \n",
              "\n",
              "                                                 labels  \n",
              "                                                         \n",
              "               Outcome_Summons / charged by post         \n",
              "instance names                                           \n",
              "400                                          0.0    1.0  \n",
              "664                                          0.0    1.0  \n",
              "351                                          0.0    1.0  \n",
              "1065                                         0.0    1.0  \n",
              "1368                                         0.0    1.0  \n",
              "...                                          ...    ...  \n",
              "785                                          0.0    1.0  \n",
              "1593                                         0.0    1.0  \n",
              "1446                                         0.0    1.0  \n",
              "345                                          0.0    1.0  \n",
              "1335                                         0.0    0.0  \n",
              "\n",
              "[930 rows x 11 columns]"
            ]
          },
          "metadata": {
            "tags": []
          },
          "execution_count": 23
        }
      ]
    },
    {
      "cell_type": "code",
      "metadata": {
        "id": "rL6SeZdWCORi",
        "outputId": "68e97bf7-4d90-4a25-852e-34df827a77ed"
      },
      "source": [
        "from aif360.metrics import BinaryLabelDatasetMetric\n",
        "metric_orig_trn = BinaryLabelDatasetMetric(df_orig_trn, unprivileged_group, privileged_group)\n",
        "print('1-min(DI, 1/DI):', get_disparity_index(metric_orig_trn.disparate_impact()).round(3))"
      ],
      "execution_count": null,
      "outputs": [
        {
          "output_type": "stream",
          "text": [
            "1-min(DI, 1/DI): 0.037\n"
          ],
          "name": "stdout"
        }
      ]
    },
    {
      "cell_type": "code",
      "metadata": {
        "id": "6Q053oSSCORi"
      },
      "source": [
        "lr_orig, lr_scale_orig = train_lr_model(df_orig_trn)"
      ],
      "execution_count": null,
      "outputs": []
    },
    {
      "cell_type": "code",
      "metadata": {
        "id": "X2Iih-5gCORi"
      },
      "source": [
        "thresh_arr = np.linspace(0.01, 0.5, 100)\n"
      ],
      "execution_count": null,
      "outputs": []
    },
    {
      "cell_type": "code",
      "metadata": {
        "id": "y0qBlHMxCORi"
      },
      "source": [
        "y_validate_pred_prob_orig = get_y_pred_prob_lr(scale=lr_scale_orig, model=lr_orig, dataset=df_orig_val)\n"
      ],
      "execution_count": null,
      "outputs": []
    },
    {
      "cell_type": "code",
      "metadata": {
        "id": "dqWrE4waCORj",
        "outputId": "0d24ed34-49d1-416e-e1cd-e8e2c62fe78a"
      },
      "source": [
        "from aif360.metrics import ClassificationMetric\n",
        "acc_metrics_orig, bal_acc_arr_orig, disp_imp_arr_orig, dataset_pred_labels_orig = \\\n",
        "get_best_bal_acc_cutoff(y_pred_prob=y_validate_pred_prob_orig, dataset=df_orig_val)"
      ],
      "execution_count": null,
      "outputs": [
        {
          "output_type": "stream",
          "text": [
            "100%|██████████████████████████████████████████████████████████████████████████████| 100/100 [00:00<00:00, 1230.13it/s]\n"
          ],
          "name": "stderr"
        }
      ]
    },
    {
      "cell_type": "code",
      "metadata": {
        "id": "3i5vQgDfCORj",
        "outputId": "2e244b1d-9ef5-41ce-8d94-4de02c51e6c4"
      },
      "source": [
        "print('Threshold corresponding to best balanced accuracy:', acc_metrics_orig.loc['thresh_arr_best', 0].round(3))\n",
        "print('Best balanced accuracy:', acc_metrics_orig.loc['best_bal_acc', 0].round(3))\n",
        "print('1-min(DI, 1/DI):', get_disparity_index(acc_metrics_orig.loc['disp_imp_at_best_bal_acc', 0]).round(3))"
      ],
      "execution_count": null,
      "outputs": [
        {
          "output_type": "stream",
          "text": [
            "Threshold corresponding to best balanced accuracy: 0.01\n",
            "Best balanced accuracy: 0.5\n",
            "1-min(DI, 1/DI): 0.0\n"
          ],
          "name": "stdout"
        }
      ]
    },
    {
      "cell_type": "code",
      "metadata": {
        "id": "n3HYD5LQCORj",
        "outputId": "28143c7c-c95d-43a9-c5ac-ce30a331ea37"
      },
      "source": [
        "plot_acc_vs_fairness(get_disparity_index(np.array(disp_imp_arr_orig)), \\\n",
        "  '1-min(DI, 1/DI)', bal_acc_arr_orig, \\\n",
        "  acc_metrics_orig.loc['thresh_arr_best_ind', 0].astype(int))"
      ],
      "execution_count": null,
      "outputs": [
        {
          "output_type": "display_data",
          "data": {
            "image/png": "[encoded data removed]",
            "text/plain": [
              "<Figure size 720x504 with 2 Axes>"
            ]
          },
          "metadata": {
            "tags": [],
            "needs_background": "light"
          }
        }
      ]
    },
    {
      "cell_type": "code",
      "metadata": {
        "id": "EQRiUBUrCORj"
      },
      "source": [
        "RW = Reweighing(unprivileged_group, privileged_group)\n",
        "df_transf_trn = RW.fit_transform(df_orig_trn)"
      ],
      "execution_count": null,
      "outputs": []
    },
    {
      "cell_type": "code",
      "metadata": {
        "id": "L9cS7k2iCORk",
        "outputId": "d9e3f156-2a88-4663-b233-7e9a3a3ea47f"
      },
      "source": [
        "metric_transf_trn = BinaryLabelDatasetMetric(df_transf_trn, unprivileged_group, privileged_group)\n",
        "print('1-min(DI, 1/DI):', get_disparity_index(metric_transf_trn.disparate_impact()).round(3))"
      ],
      "execution_count": null,
      "outputs": [
        {
          "output_type": "stream",
          "text": [
            "1-min(DI, 1/DI): 0.0\n"
          ],
          "name": "stdout"
        }
      ]
    },
    {
      "cell_type": "code",
      "metadata": {
        "id": "w07fOef1CORk"
      },
      "source": [
        "lr_transf, lr_scale_transf = train_lr_model(df_transf_trn)\n"
      ],
      "execution_count": null,
      "outputs": []
    },
    {
      "cell_type": "code",
      "metadata": {
        "id": "xMmyJF7QCORk"
      },
      "source": [
        "y_validate_pred_prob_transf = get_y_pred_prob_lr(scale=lr_scale_transf, model=lr_transf, dataset=df_orig_val)\n"
      ],
      "execution_count": null,
      "outputs": []
    },
    {
      "cell_type": "code",
      "metadata": {
        "id": "HUW3lvTvCORk",
        "outputId": "06befa1c-27c9-48fd-b4d5-007a812254b2"
      },
      "source": [
        "acc_metrics_transf, bal_acc_arr_transf, disp_imp_arr_transf, dataset_pred_labels_transf = \\\n",
        "get_best_bal_acc_cutoff(y_pred_prob=y_validate_pred_prob_transf, dataset=df_orig_val)"
      ],
      "execution_count": null,
      "outputs": [
        {
          "output_type": "stream",
          "text": [
            "100%|██████████████████████████████████████████████████████████████████████████████| 100/100 [00:00<00:00, 1091.32it/s]\n"
          ],
          "name": "stderr"
        }
      ]
    },
    {
      "cell_type": "code",
      "metadata": {
        "id": "-6vQFdG1CORk",
        "outputId": "980204b5-ba33-483c-874b-ae55cb8739af"
      },
      "source": [
        "print('Threshold corresponding to best balanced accuracy:', acc_metrics_transf.loc['thresh_arr_best', 0].round(3))\n",
        "print('Best balanced accuracy:', acc_metrics_transf.loc['best_bal_acc', 0].round(3))\n",
        "print('1-min(DI, 1/DI):', get_disparity_index(acc_metrics_transf.loc['disp_imp_at_best_bal_acc', 0]).round(3))"
      ],
      "execution_count": null,
      "outputs": [
        {
          "output_type": "stream",
          "text": [
            "Threshold corresponding to best balanced accuracy: 0.01\n",
            "Best balanced accuracy: 0.5\n",
            "1-min(DI, 1/DI): 0.0\n"
          ],
          "name": "stdout"
        }
      ]
    },
    {
      "cell_type": "code",
      "metadata": {
        "id": "jfXHczvZCORk",
        "outputId": "d10115f2-cb43-42d7-96da-ec593df74c81"
      },
      "source": [
        "plot_acc_vs_fairness(get_disparity_index(np.array(disp_imp_arr_transf)), \\\n",
        "  '1-min(DI, 1/DI)', bal_acc_arr_transf, \\\n",
        "  acc_metrics_orig.loc['thresh_arr_best_ind', 0].astype(int))"
      ],
      "execution_count": null,
      "outputs": [
        {
          "output_type": "display_data",
          "data": {
            "image/png": "[encoded data removed]",
            "text/plain": [
              "<Figure size 720x504 with 2 Axes>"
            ]
          },
          "metadata": {
            "tags": [],
            "needs_background": "light"
          }
        }
      ]
    },
    {
      "cell_type": "code",
      "metadata": {
        "id": "SmoZywrMCORl"
      },
      "source": [
        ""
      ],
      "execution_count": null,
      "outputs": []
    },
    {
      "cell_type": "code",
      "metadata": {
        "id": "DHvd3pSSCORl"
      },
      "source": [
        ""
      ],
      "execution_count": null,
      "outputs": []
    },
    {
      "cell_type": "code",
      "metadata": {
        "id": "c7QfHygZCORl"
      },
      "source": [
        ""
      ],
      "execution_count": null,
      "outputs": []
    },
    {
      "cell_type": "code",
      "metadata": {
        "id": "Q2IA7nmUCORl"
      },
      "source": [
        ""
      ],
      "execution_count": null,
      "outputs": []
    }
  ]
}